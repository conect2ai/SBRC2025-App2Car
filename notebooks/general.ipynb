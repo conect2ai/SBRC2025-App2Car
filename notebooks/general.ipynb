{
 "cells": [
  {
   "cell_type": "code",
   "execution_count": 1,
   "metadata": {},
   "outputs": [],
   "source": [
    "import os\n",
    "import folium\n",
    "\n",
    "import pandas as pd\n",
    "import scipy.stats as stats\n",
    "\n",
    "from scipy.stats import gaussian_kde\n",
    "\n",
    "import matplotlib.pyplot as plt\n",
    "import seaborn as sns\n",
    "\n",
    "plt.style.use(\"fivethirtyeight\")"
   ]
  },
  {
   "cell_type": "code",
   "execution_count": 2,
   "metadata": {},
   "outputs": [],
   "source": [
    "DATA_PATH = \"../data\"\n",
    "CAR_FILES = DATA_PATH + \"/polo\""
   ]
  },
  {
   "cell_type": "code",
   "execution_count": 4,
   "metadata": {},
   "outputs": [],
   "source": [
    "os.listdir(DATA_PATH)\n",
    "\n",
    "datasets = {}\n",
    "\n",
    "for car in os.listdir(DATA_PATH):\n",
    "    datasets[car] = {}\n",
    "\n",
    "    for obd_type in os.listdir(DATA_PATH + \"/\" + car):\n",
    "        datasets[car][obd_type] = {}\n",
    "\n",
    "        for csv_file in os.listdir(DATA_PATH + \"/\" + car + \"/\" + obd_type):\n",
    "            if \"debug\" in csv_file:\n",
    "                datasets[car][obd_type][\"debug\"] = pd.read_csv(DATA_PATH + \"/\" + car + \"/\" + obd_type + \"/\" + csv_file)\n",
    "            else:\n",
    "                datasets[car][obd_type][\"data\"] = pd.read_csv(DATA_PATH + \"/\" + car + \"/\" + obd_type + \"/\" + csv_file)"
   ]
  },
  {
   "cell_type": "code",
   "execution_count": null,
   "metadata": {},
   "outputs": [],
   "source": []
  }
 ],
 "metadata": {
  "kernelspec": {
   "display_name": "venv-sbrc2025-app2car",
   "language": "python",
   "name": "python3"
  },
  "language_info": {
   "codemirror_mode": {
    "name": "ipython",
    "version": 3
   },
   "file_extension": ".py",
   "mimetype": "text/x-python",
   "name": "python",
   "nbconvert_exporter": "python",
   "pygments_lexer": "ipython3",
   "version": "3.10.12"
  }
 },
 "nbformat": 4,
 "nbformat_minor": 2
}
