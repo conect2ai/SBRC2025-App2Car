{
 "cells": [
  {
   "cell_type": "code",
   "execution_count": 488,
   "metadata": {},
   "outputs": [],
   "source": [
    "import os\n",
    "\n",
    "import pandas as pd\n",
    "import numpy as np\n",
    "\n",
    "from utils.plotting import plot_histogram_kde\n",
    "\n",
    "from scipy import stats\n",
    "\n",
    "from statsmodels.api import qqplot\n",
    "\n",
    "import matplotlib.pyplot as plt\n",
    "\n",
    "plt.style.use(\"fivethirtyeight\")"
   ]
  },
  {
   "cell_type": "code",
   "execution_count": 489,
   "metadata": {},
   "outputs": [],
   "source": [
    "DATA_PATH = \"../data\""
   ]
  },
  {
   "cell_type": "code",
   "execution_count": 490,
   "metadata": {},
   "outputs": [],
   "source": [
    "os.listdir(DATA_PATH)\n",
    "\n",
    "datasets = {}\n",
    "\n",
    "for car in os.listdir(DATA_PATH):\n",
    "    datasets[car] = {}\n",
    "\n",
    "    for obd_type in os.listdir(DATA_PATH + \"/\" + car):\n",
    "        datasets[car][obd_type] = {}\n",
    "\n",
    "        for csv_file in os.listdir(DATA_PATH + \"/\" + car + \"/\" + obd_type):\n",
    "            if \"debug\" in csv_file:\n",
    "                datasets[car][obd_type][\"debug\"] = pd.read_csv(DATA_PATH + \"/\" + car + \"/\" + obd_type + \"/\" + csv_file)\n",
    "            else:\n",
    "                datasets[car][obd_type][\"data\"] = pd.read_csv(DATA_PATH + \"/\" + car + \"/\" + obd_type + \"/\" + csv_file)"
   ]
  },
  {
   "cell_type": "code",
   "execution_count": 491,
   "metadata": {},
   "outputs": [],
   "source": [
    "density_and_emission = {\n",
    "    \"Gasolina\": [737, 2310],\n",
    "    \"Diesel\": [850, 2660],\n",
    "    \"Etanol\": [789, 1510]\n",
    "}\n",
    "\n",
    "def formula_maf_afr(\n",
    "    air_fuel_ratio: list,\n",
    "    mass_air_flow: list,\n",
    "    fuel_type: str\n",
    "):\n",
    "    fuel_density = density_and_emission[fuel_type][0]\n",
    "    emission_factor_CO2 = density_and_emission[fuel_type][1]\n",
    "    co2_emissions = []\n",
    "\n",
    "    for afr, maf in zip(air_fuel_ratio, mass_air_flow):\n",
    "        if fuel_type == \"Gasolina\":\n",
    "            afr = 14.7\n",
    "        elif fuel_type == \"Etanol\":\n",
    "            afr = 9.1\n",
    "\n",
    "        if maf is not None:\n",
    "            fuel_volume = maf / (afr * fuel_density)\n",
    "            co2_emission = fuel_volume * emission_factor_CO2 # g/s\n",
    "            co2_emissions.append(round(co2_emission, 3))  # Evitar precisão exagerada\n",
    "        else:\n",
    "            co2_emissions.append(0)\n",
    "\n",
    "    final = round(sum(co2_emissions), 2)\n",
    "\n",
    "    return final, co2_emissions\n",
    "\n",
    "def estimate_maf(rpm, temp, pressure, cc):\n",
    "    \"\"\"Estima o fluxo de massa de ar (MAF)\"\"\"\n",
    "    VE = 0.8 # Eficiência volumétrica ajustada\n",
    "    R = 8.3146 # Constante dos gases ideais\n",
    "    M_air = 28.87 # Massa molar do ar seco em g/mol\n",
    "\n",
    "    # Ajuste de unidades\n",
    "    temp = temp + 273.15 # °C para Kelvin\n",
    "\n",
    "    # Cálculo do MAF (mg/s)\n",
    "    # pressure em KPa\n",
    "    # cc em litros\n",
    "    maf = (pressure * cc * M_air * VE * rpm) / (R * temp * 120)\n",
    "\n",
    "    return maf  # mg/s para g/s\n",
    "\n",
    "def compute_emissions_maf_afr(\n",
    "    air_fuel_ratio: list,\n",
    "    mass_air_flow: list,\n",
    "    fuel_type: str,\n",
    "    rpm: list,\n",
    "    intake_air_temperature: list,\n",
    "    intake_manifold_absolut_pressure: list,\n",
    "    engine: float\n",
    "):\n",
    "    result = {}\n",
    "    estimated_maf = []\n",
    "    emissions_final = 0\n",
    "    emissions_list = []\n",
    "\n",
    "    # Cálculo direto de emissão, se possível\n",
    "    emissions_final, emissions_list = formula_maf_afr(air_fuel_ratio, mass_air_flow, fuel_type)\n",
    "    if emissions_final != 0:\n",
    "        result[\"emission\"] = emissions_final\n",
    "        result[\"emission_list\"] = emissions_list\n",
    "        return result\n",
    "\n",
    "    # Loop para calcular as emissões para cada instante\n",
    "    for i in range(len(intake_air_temperature)):\n",
    "        if any(v is None or v == 0 for v in [rpm[i], intake_air_temperature[i], intake_manifold_absolut_pressure[i]]):\n",
    "            estimated_maf.append(0)\n",
    "            continue\n",
    "\n",
    "        # Cálculo do MAF estimado\n",
    "        maf = estimate_maf(rpm[i], intake_air_temperature[i], intake_manifold_absolut_pressure[i], engine)\n",
    "        estimated_maf.append(maf)\n",
    "\n",
    "    emissions_final, emissions_list = formula_maf_afr(air_fuel_ratio, estimated_maf, fuel_type)\n",
    "\n",
    "    result[\"emission\"] = emissions_final\n",
    "    result[\"emission_list\"] = emissions_list\n",
    "\n",
    "    return result"
   ]
  },
  {
   "cell_type": "markdown",
   "metadata": {},
   "source": [
    "# Data Analysis"
   ]
  },
  {
   "cell_type": "markdown",
   "metadata": {},
   "source": [
    "## Polo Prata"
   ]
  },
  {
   "cell_type": "markdown",
   "metadata": {},
   "source": [
    "### OBD A"
   ]
  },
  {
   "cell_type": "code",
   "execution_count": 492,
   "metadata": {},
   "outputs": [
    {
     "data": {
      "text/html": [
       "<div>\n",
       "<style scoped>\n",
       "    .dataframe tbody tr th:only-of-type {\n",
       "        vertical-align: middle;\n",
       "    }\n",
       "\n",
       "    .dataframe tbody tr th {\n",
       "        vertical-align: top;\n",
       "    }\n",
       "\n",
       "    .dataframe thead th {\n",
       "        text-align: right;\n",
       "    }\n",
       "</style>\n",
       "<table border=\"1\" class=\"dataframe\">\n",
       "  <thead>\n",
       "    <tr style=\"text-align: right;\">\n",
       "      <th></th>\n",
       "      <th>Timestamp</th>\n",
       "      <th>CommandSent</th>\n",
       "      <th>Response</th>\n",
       "      <th>Interval</th>\n",
       "      <th>CommandsCount</th>\n",
       "      <th>ResponsesCount</th>\n",
       "      <th>Failed</th>\n",
       "    </tr>\n",
       "  </thead>\n",
       "  <tbody>\n",
       "    <tr>\n",
       "      <th>0</th>\n",
       "      <td>1739464440307</td>\n",
       "      <td>speed</td>\n",
       "      <td>0.0</td>\n",
       "      <td>513</td>\n",
       "      <td>1</td>\n",
       "      <td>1</td>\n",
       "      <td>0</td>\n",
       "    </tr>\n",
       "    <tr>\n",
       "      <th>1</th>\n",
       "      <td>1739464440839</td>\n",
       "      <td>rpm</td>\n",
       "      <td>981.0</td>\n",
       "      <td>131</td>\n",
       "      <td>2</td>\n",
       "      <td>2</td>\n",
       "      <td>0</td>\n",
       "    </tr>\n",
       "    <tr>\n",
       "      <th>2</th>\n",
       "      <td>1739464440972</td>\n",
       "      <td>engine_load</td>\n",
       "      <td>16.0</td>\n",
       "      <td>90</td>\n",
       "      <td>3</td>\n",
       "      <td>3</td>\n",
       "      <td>0</td>\n",
       "    </tr>\n",
       "    <tr>\n",
       "      <th>3</th>\n",
       "      <td>1739464441063</td>\n",
       "      <td>engine_oil_temperature</td>\n",
       "      <td>NO DATA\\r&gt;</td>\n",
       "      <td>149</td>\n",
       "      <td>4</td>\n",
       "      <td>4</td>\n",
       "      <td>1</td>\n",
       "    </tr>\n",
       "    <tr>\n",
       "      <th>4</th>\n",
       "      <td>1739464441213</td>\n",
       "      <td>coolant_temp</td>\n",
       "      <td>83.0</td>\n",
       "      <td>150</td>\n",
       "      <td>5</td>\n",
       "      <td>5</td>\n",
       "      <td>1</td>\n",
       "    </tr>\n",
       "    <tr>\n",
       "      <th>5</th>\n",
       "      <td>1739464441363</td>\n",
       "      <td>mass_air_flow</td>\n",
       "      <td>NO DATA\\r&gt;</td>\n",
       "      <td>148</td>\n",
       "      <td>6</td>\n",
       "      <td>6</td>\n",
       "      <td>2</td>\n",
       "    </tr>\n",
       "    <tr>\n",
       "      <th>6</th>\n",
       "      <td>1739464441511</td>\n",
       "      <td>throttle_position</td>\n",
       "      <td>17.0</td>\n",
       "      <td>149</td>\n",
       "      <td>7</td>\n",
       "      <td>7</td>\n",
       "      <td>2</td>\n",
       "    </tr>\n",
       "    <tr>\n",
       "      <th>7</th>\n",
       "      <td>1739464441660</td>\n",
       "      <td>voltage_control_module</td>\n",
       "      <td>13.33</td>\n",
       "      <td>94</td>\n",
       "      <td>8</td>\n",
       "      <td>8</td>\n",
       "      <td>2</td>\n",
       "    </tr>\n",
       "    <tr>\n",
       "      <th>8</th>\n",
       "      <td>1739464441755</td>\n",
       "      <td>fuel_level</td>\n",
       "      <td>47.84</td>\n",
       "      <td>149</td>\n",
       "      <td>9</td>\n",
       "      <td>9</td>\n",
       "      <td>2</td>\n",
       "    </tr>\n",
       "    <tr>\n",
       "      <th>9</th>\n",
       "      <td>1739464441904</td>\n",
       "      <td>fuel_pressure</td>\n",
       "      <td>NO DATA\\r&gt;</td>\n",
       "      <td>147</td>\n",
       "      <td>10</td>\n",
       "      <td>10</td>\n",
       "      <td>3</td>\n",
       "    </tr>\n",
       "  </tbody>\n",
       "</table>\n",
       "</div>"
      ],
      "text/plain": [
       "       Timestamp             CommandSent    Response  Interval  CommandsCount  \\\n",
       "0  1739464440307                   speed         0.0       513              1   \n",
       "1  1739464440839                     rpm       981.0       131              2   \n",
       "2  1739464440972             engine_load        16.0        90              3   \n",
       "3  1739464441063  engine_oil_temperature  NO DATA\\r>       149              4   \n",
       "4  1739464441213            coolant_temp        83.0       150              5   \n",
       "5  1739464441363           mass_air_flow  NO DATA\\r>       148              6   \n",
       "6  1739464441511       throttle_position        17.0       149              7   \n",
       "7  1739464441660  voltage_control_module       13.33        94              8   \n",
       "8  1739464441755              fuel_level       47.84       149              9   \n",
       "9  1739464441904           fuel_pressure  NO DATA\\r>       147             10   \n",
       "\n",
       "   ResponsesCount  Failed  \n",
       "0               1       0  \n",
       "1               2       0  \n",
       "2               3       0  \n",
       "3               4       1  \n",
       "4               5       1  \n",
       "5               6       2  \n",
       "6               7       2  \n",
       "7               8       2  \n",
       "8               9       2  \n",
       "9              10       3  "
      ]
     },
     "execution_count": 492,
     "metadata": {},
     "output_type": "execute_result"
    }
   ],
   "source": [
    "polo_prata_a = datasets[\"polo_prata\"][\"A\"][\"debug\"]\n",
    "\n",
    "polo_prata_a.head(10)"
   ]
  },
  {
   "cell_type": "code",
   "execution_count": 493,
   "metadata": {},
   "outputs": [
    {
     "data": {
      "text/plain": [
       "np.float64(149.0)"
      ]
     },
     "execution_count": 493,
     "metadata": {},
     "output_type": "execute_result"
    }
   ],
   "source": [
    "polo_prata_a[\"Interval\"].median()"
   ]
  },
  {
   "cell_type": "code",
   "execution_count": 494,
   "metadata": {},
   "outputs": [
    {
     "data": {
      "text/plain": [
       "CommandSent\n",
       "absolute_barometric_pressure        149.0\n",
       "absolute_load_value                 150.0\n",
       "absolute_throttle_pos_B             150.0\n",
       "accelerator_pedal_pos_D             150.0\n",
       "accelerator_pedal_pos_E             149.0\n",
       "air_fuel_ratio                      149.0\n",
       "catalyst_temp_bank1_sensor1         149.0\n",
       "coolant_temp                        149.0\n",
       "distance_traveled_with_MIL_on       149.0\n",
       "engine_fuel_rate                    149.0\n",
       "engine_load                         148.0\n",
       "engine_oil_temperature              149.0\n",
       "ethanol_percentage                  150.0\n",
       "fuel_level                          149.0\n",
       "fuel_pressure                       149.0\n",
       "fuel_rail_gauge_pressure            149.0\n",
       "fuel_rail_pressure                  149.0\n",
       "intake_air_temperature              150.0\n",
       "intake_manifold_absolut_pressure    150.0\n",
       "mass_air_flow                       149.0\n",
       "relative_throttle_pos               149.0\n",
       "rpm                                 149.0\n",
       "runtime_since_engine_start          149.0\n",
       "speed                               150.0\n",
       "throttle_position                   150.0\n",
       "timing_advance                      149.0\n",
       "voltage_control_module              149.0\n",
       "Name: Interval, dtype: float64"
      ]
     },
     "execution_count": 494,
     "metadata": {},
     "output_type": "execute_result"
    }
   ],
   "source": [
    "polo_prata_a.groupby(\"CommandSent\")[\"Interval\"].median()"
   ]
  },
  {
   "cell_type": "code",
   "execution_count": 495,
   "metadata": {},
   "outputs": [
    {
     "data": {
      "text/plain": [
       "np.float64(287.08)"
      ]
     },
     "execution_count": 495,
     "metadata": {},
     "output_type": "execute_result"
    }
   ],
   "source": [
    "compute_emissions_maf_afr(\n",
    "    air_fuel_ratio=polo_prata_a[\n",
    "        (polo_prata_a[\"CommandSent\"] == \"air_fuel_ratio\") &\n",
    "        ~(polo_prata_a[\"Response\"].str.contains(\"NO DATA\\r>\"))\n",
    "    ][\"Response\"].values.astype(float),\n",
    "    mass_air_flow=polo_prata_a[\n",
    "        (polo_prata_a[\"CommandSent\"] == \"mass_air_flow\") &\n",
    "        ~(polo_prata_a[\"Response\"].str.contains(\"NO DATA\\r>\"))\n",
    "    ][\"Response\"].values.astype(float),\n",
    "    fuel_type=\"Gasolina\",\n",
    "    rpm=polo_prata_a[\n",
    "        (polo_prata_a[\"CommandSent\"] == \"rpm\") &\n",
    "        ~(polo_prata_a[\"Response\"].str.contains(\"NO DATA\\r>\"))\n",
    "    ][\"Response\"].values.astype(float),\n",
    "    intake_air_temperature=polo_prata_a[\n",
    "        (polo_prata_a[\"CommandSent\"] == \"intake_air_temperature\") &\n",
    "        ~(polo_prata_a[\"Response\"].str.contains(\"NO DATA\\r>\"))\n",
    "    ][\"Response\"].values.astype(float),\n",
    "    intake_manifold_absolut_pressure=polo_prata_a[\n",
    "        (polo_prata_a[\"CommandSent\"] == \"intake_manifold_absolut_pressure\") &\n",
    "        ~(polo_prata_a[\"Response\"].str.contains(\"NO DATA\\r>\"))\n",
    "    ][\"Response\"].values.astype(float),\n",
    "    engine=1.0\n",
    ")[\"emission\"]"
   ]
  },
  {
   "cell_type": "markdown",
   "metadata": {},
   "source": [
    "### OBD B"
   ]
  },
  {
   "cell_type": "code",
   "execution_count": 496,
   "metadata": {},
   "outputs": [
    {
     "data": {
      "text/html": [
       "<div>\n",
       "<style scoped>\n",
       "    .dataframe tbody tr th:only-of-type {\n",
       "        vertical-align: middle;\n",
       "    }\n",
       "\n",
       "    .dataframe tbody tr th {\n",
       "        vertical-align: top;\n",
       "    }\n",
       "\n",
       "    .dataframe thead th {\n",
       "        text-align: right;\n",
       "    }\n",
       "</style>\n",
       "<table border=\"1\" class=\"dataframe\">\n",
       "  <thead>\n",
       "    <tr style=\"text-align: right;\">\n",
       "      <th></th>\n",
       "      <th>Timestamp</th>\n",
       "      <th>CommandSent</th>\n",
       "      <th>Response</th>\n",
       "      <th>Interval</th>\n",
       "      <th>CommandsCount</th>\n",
       "      <th>ResponsesCount</th>\n",
       "      <th>Failed</th>\n",
       "    </tr>\n",
       "  </thead>\n",
       "  <tbody>\n",
       "    <tr>\n",
       "      <th>0</th>\n",
       "      <td>1739460036051</td>\n",
       "      <td>speed</td>\n",
       "      <td>0.0</td>\n",
       "      <td>257</td>\n",
       "      <td>1</td>\n",
       "      <td>1</td>\n",
       "      <td>0</td>\n",
       "    </tr>\n",
       "    <tr>\n",
       "      <th>1</th>\n",
       "      <td>1739460036051</td>\n",
       "      <td>speed</td>\n",
       "      <td>0.0</td>\n",
       "      <td>278</td>\n",
       "      <td>1</td>\n",
       "      <td>2</td>\n",
       "      <td>0</td>\n",
       "    </tr>\n",
       "    <tr>\n",
       "      <th>2</th>\n",
       "      <td>1739460036330</td>\n",
       "      <td>rpm</td>\n",
       "      <td>979.0</td>\n",
       "      <td>111</td>\n",
       "      <td>2</td>\n",
       "      <td>4</td>\n",
       "      <td>0</td>\n",
       "    </tr>\n",
       "    <tr>\n",
       "      <th>3</th>\n",
       "      <td>1739460036330</td>\n",
       "      <td>rpm</td>\n",
       "      <td>980.0</td>\n",
       "      <td>157</td>\n",
       "      <td>2</td>\n",
       "      <td>5</td>\n",
       "      <td>0</td>\n",
       "    </tr>\n",
       "    <tr>\n",
       "      <th>4</th>\n",
       "      <td>1739460036488</td>\n",
       "      <td>engine_load</td>\n",
       "      <td>15.0</td>\n",
       "      <td>133</td>\n",
       "      <td>3</td>\n",
       "      <td>7</td>\n",
       "      <td>0</td>\n",
       "    </tr>\n",
       "    <tr>\n",
       "      <th>5</th>\n",
       "      <td>1739460036488</td>\n",
       "      <td>engine_load</td>\n",
       "      <td>15.0</td>\n",
       "      <td>179</td>\n",
       "      <td>3</td>\n",
       "      <td>8</td>\n",
       "      <td>0</td>\n",
       "    </tr>\n",
       "    <tr>\n",
       "      <th>6</th>\n",
       "      <td>1739460036668</td>\n",
       "      <td>engine_oil_temperature</td>\n",
       "      <td>NO DATA</td>\n",
       "      <td>136</td>\n",
       "      <td>4</td>\n",
       "      <td>10</td>\n",
       "      <td>1</td>\n",
       "    </tr>\n",
       "    <tr>\n",
       "      <th>7</th>\n",
       "      <td>1739460036805</td>\n",
       "      <td>coolant_temp</td>\n",
       "      <td>NO DATA</td>\n",
       "      <td>137</td>\n",
       "      <td>5</td>\n",
       "      <td>12</td>\n",
       "      <td>2</td>\n",
       "    </tr>\n",
       "    <tr>\n",
       "      <th>8</th>\n",
       "      <td>1739460036943</td>\n",
       "      <td>mass_air_flow</td>\n",
       "      <td>NO DATA</td>\n",
       "      <td>129</td>\n",
       "      <td>6</td>\n",
       "      <td>14</td>\n",
       "      <td>3</td>\n",
       "    </tr>\n",
       "    <tr>\n",
       "      <th>9</th>\n",
       "      <td>1739460037074</td>\n",
       "      <td>throttle_position</td>\n",
       "      <td>16.0</td>\n",
       "      <td>180</td>\n",
       "      <td>7</td>\n",
       "      <td>16</td>\n",
       "      <td>3</td>\n",
       "    </tr>\n",
       "  </tbody>\n",
       "</table>\n",
       "</div>"
      ],
      "text/plain": [
       "       Timestamp             CommandSent Response  Interval  CommandsCount  \\\n",
       "0  1739460036051                   speed      0.0       257              1   \n",
       "1  1739460036051                   speed      0.0       278              1   \n",
       "2  1739460036330                     rpm    979.0       111              2   \n",
       "3  1739460036330                     rpm    980.0       157              2   \n",
       "4  1739460036488             engine_load     15.0       133              3   \n",
       "5  1739460036488             engine_load     15.0       179              3   \n",
       "6  1739460036668  engine_oil_temperature  NO DATA       136              4   \n",
       "7  1739460036805            coolant_temp  NO DATA       137              5   \n",
       "8  1739460036943           mass_air_flow  NO DATA       129              6   \n",
       "9  1739460037074       throttle_position     16.0       180              7   \n",
       "\n",
       "   ResponsesCount  Failed  \n",
       "0               1       0  \n",
       "1               2       0  \n",
       "2               4       0  \n",
       "3               5       0  \n",
       "4               7       0  \n",
       "5               8       0  \n",
       "6              10       1  \n",
       "7              12       2  \n",
       "8              14       3  \n",
       "9              16       3  "
      ]
     },
     "execution_count": 496,
     "metadata": {},
     "output_type": "execute_result"
    }
   ],
   "source": [
    "polo_prata_b = datasets[\"polo_prata\"][\"B\"][\"debug\"]\n",
    "\n",
    "polo_prata_b.head(10)"
   ]
  },
  {
   "cell_type": "code",
   "execution_count": 497,
   "metadata": {},
   "outputs": [
    {
     "data": {
      "text/plain": [
       "np.float64(178.0)"
      ]
     },
     "execution_count": 497,
     "metadata": {},
     "output_type": "execute_result"
    }
   ],
   "source": [
    "polo_prata_b[\"Interval\"].median()"
   ]
  },
  {
   "cell_type": "code",
   "execution_count": 498,
   "metadata": {},
   "outputs": [
    {
     "data": {
      "text/plain": [
       "CommandSent\n",
       "absolute_barometric_pressure        178.0\n",
       "absolute_load_value                 181.0\n",
       "absolute_throttle_pos_B             179.0\n",
       "accelerator_pedal_pos_D             180.0\n",
       "accelerator_pedal_pos_E             181.0\n",
       "air_fuel_ratio                      182.0\n",
       "catalyst_temp_bank1_sensor1         178.0\n",
       "coolant_temp                        181.0\n",
       "distance_traveled_with_MIL_on       179.0\n",
       "engine_fuel_rate                    132.0\n",
       "engine_load                         178.0\n",
       "engine_oil_temperature              132.0\n",
       "ethanol_percentage                  177.0\n",
       "fuel_level                          179.0\n",
       "fuel_pressure                       133.0\n",
       "fuel_rail_gauge_pressure            181.0\n",
       "fuel_rail_pressure                  135.0\n",
       "intake_air_temperature              178.0\n",
       "intake_manifold_absolut_pressure    178.0\n",
       "mass_air_flow                       135.0\n",
       "relative_throttle_pos               178.0\n",
       "rpm                                 176.0\n",
       "runtime_since_engine_start          178.0\n",
       "speed                               179.0\n",
       "throttle_position                   181.0\n",
       "timing_advance                      178.0\n",
       "voltage_control_module              182.0\n",
       "Name: Interval, dtype: float64"
      ]
     },
     "execution_count": 498,
     "metadata": {},
     "output_type": "execute_result"
    }
   ],
   "source": [
    "polo_prata_b.groupby(\"CommandSent\")[\"Interval\"].median()"
   ]
  },
  {
   "cell_type": "code",
   "execution_count": 499,
   "metadata": {},
   "outputs": [
    {
     "data": {
      "text/plain": [
       "np.float64(217.16)"
      ]
     },
     "execution_count": 499,
     "metadata": {},
     "output_type": "execute_result"
    }
   ],
   "source": [
    "compute_emissions_maf_afr(\n",
    "    air_fuel_ratio=polo_prata_b[\n",
    "        (polo_prata_b[\"CommandSent\"] == \"air_fuel_ratio\") &\n",
    "        ~(polo_prata_b[\"Response\"].str.contains(\"NO DATA\"))\n",
    "    ][\"Response\"].values.astype(float),\n",
    "    mass_air_flow=polo_prata_b[\n",
    "        (polo_prata_b[\"CommandSent\"] == \"mass_air_flow\") &\n",
    "        ~(polo_prata_b[\"Response\"].str.contains(\"NO DATA\"))\n",
    "    ][\"Response\"].values.astype(float),\n",
    "    fuel_type=\"Gasolina\",\n",
    "    rpm=polo_prata_b[\n",
    "        (polo_prata_b[\"CommandSent\"] == \"rpm\") &\n",
    "        ~(polo_prata_b[\"Response\"].str.contains(\"NO DATA\"))\n",
    "    ][\"Response\"].values.astype(float),\n",
    "    intake_air_temperature=polo_prata_b[\n",
    "        (polo_prata_b[\"CommandSent\"] == \"intake_air_temperature\") &\n",
    "        ~(polo_prata_b[\"Response\"].str.contains(\"NO DATA\"))\n",
    "    ][\"Response\"].values.astype(float),\n",
    "    intake_manifold_absolut_pressure=polo_prata_b[\n",
    "        (polo_prata_b[\"CommandSent\"] == \"intake_manifold_absolut_pressure\") &\n",
    "        ~(polo_prata_b[\"Response\"].str.contains(\"NO DATA\"))\n",
    "    ][\"Response\"].values.astype(float),\n",
    "    engine=1.0\n",
    ")[\"emission\"]"
   ]
  },
  {
   "cell_type": "markdown",
   "metadata": {},
   "source": [
    "### Plotting"
   ]
  },
  {
   "cell_type": "code",
   "execution_count": 500,
   "metadata": {},
   "outputs": [
    {
     "data": {
      "image/png": "[encoded data removed]",
      "text/plain": [
       "<Figure size 1800x600 with 1 Axes>"
      ]
     },
     "metadata": {},
     "output_type": "display_data"
    }
   ],
   "source": [
    "min_value = min(polo_prata_a[\"Interval\"].min(), polo_prata_b[\"Interval\"].min())\n",
    "max_value = max(polo_prata_a[\"Interval\"].max(), polo_prata_b[\"Interval\"].max())\n",
    "\n",
    "num_bins = 100\n",
    "bins = np.linspace(min_value, max_value, num_bins + 1)\n",
    "\n",
    "plt.figure(figsize=(18, 6))\n",
    "\n",
    "plt.hist(polo_prata_a[\"Interval\"], bins=bins, alpha=0.7, label=\"A\")\n",
    "plt.hist(polo_prata_b[\"Interval\"], bins=bins, alpha=0.7, label=\"B\")\n",
    "\n",
    "plt.xlabel(\"Intervalo\")\n",
    "plt.ylabel(\"Frequência\")\n",
    "\n",
    "plt.xlim(0, 300)\n",
    "\n",
    "plt.legend(loc=\"upper right\", frameon=False)\n",
    "\n",
    "plt.show()"
   ]
  },
  {
   "cell_type": "code",
   "execution_count": 501,
   "metadata": {},
   "outputs": [
    {
     "data": {
      "image/png": "[encoded data removed]",
      "text/plain": [
       "<Figure size 640x480 with 1 Axes>"
      ]
     },
     "metadata": {},
     "output_type": "display_data"
    },
    {
     "data": {
      "image/png": "[encoded data removed]",
      "text/plain": [
       "<Figure size 640x480 with 1 Axes>"
      ]
     },
     "metadata": {},
     "output_type": "display_data"
    }
   ],
   "source": [
    "qqplot(polo_prata_a[\"Interval\"].values, line=\"s\", fit=True)\n",
    "qqplot(polo_prata_b[\"Interval\"].values, line=\"s\", fit=True)\n",
    "\n",
    "plt.show()"
   ]
  },
  {
   "cell_type": "code",
   "execution_count": 502,
   "metadata": {},
   "outputs": [
    {
     "data": {
      "text/plain": [
       "np.float64(3.61124416769398)"
      ]
     },
     "execution_count": 502,
     "metadata": {},
     "output_type": "execute_result"
    }
   ],
   "source": [
    "stats.skew(polo_prata_a[\"Interval\"].values)"
   ]
  },
  {
   "cell_type": "code",
   "execution_count": 503,
   "metadata": {},
   "outputs": [
    {
     "data": {
      "text/plain": [
       "np.float64(-0.9430849085164158)"
      ]
     },
     "execution_count": 503,
     "metadata": {},
     "output_type": "execute_result"
    }
   ],
   "source": [
    "stats.skew(polo_prata_b[\"Interval\"].values)"
   ]
  },
  {
   "cell_type": "code",
   "execution_count": 504,
   "metadata": {},
   "outputs": [
    {
     "data": {
      "text/plain": [
       "np.float64(142.78207900164034)"
      ]
     },
     "execution_count": 504,
     "metadata": {},
     "output_type": "execute_result"
    }
   ],
   "source": [
    "stats.kurtosis(polo_prata_a[\"Interval\"].values)"
   ]
  },
  {
   "cell_type": "code",
   "execution_count": 505,
   "metadata": {},
   "outputs": [
    {
     "data": {
      "text/plain": [
       "np.float64(-0.19250972312097714)"
      ]
     },
     "execution_count": 505,
     "metadata": {},
     "output_type": "execute_result"
    }
   ],
   "source": [
    "stats.kurtosis(polo_prata_b[\"Interval\"].values)"
   ]
  },
  {
   "cell_type": "code",
   "execution_count": 506,
   "metadata": {},
   "outputs": [
    {
     "data": {
      "text/plain": [
       "KstestResult(statistic=np.float64(0.3439720995467117), pvalue=np.float64(0.0), statistic_location=np.int64(145), statistic_sign=np.int8(-1))"
      ]
     },
     "execution_count": 506,
     "metadata": {},
     "output_type": "execute_result"
    }
   ],
   "source": [
    "stats.kstest(polo_prata_a[\"Interval\"].values, \"norm\", args=(polo_prata_a[\"Interval\"].mean(), polo_prata_a[\"Interval\"].std()))"
   ]
  },
  {
   "cell_type": "code",
   "execution_count": 507,
   "metadata": {},
   "outputs": [
    {
     "data": {
      "text/plain": [
       "KstestResult(statistic=np.float64(0.2991763115398028), pvalue=np.float64(0.0), statistic_location=np.int64(174), statistic_sign=np.int8(-1))"
      ]
     },
     "execution_count": 507,
     "metadata": {},
     "output_type": "execute_result"
    }
   ],
   "source": [
    "stats.kstest(polo_prata_b[\"Interval\"].values, \"norm\", args=(polo_prata_b[\"Interval\"].mean(), polo_prata_b[\"Interval\"].std()))"
   ]
  },
  {
   "cell_type": "code",
   "execution_count": 508,
   "metadata": {},
   "outputs": [
    {
     "data": {
      "text/plain": [
       "(np.float64(4090026.5), np.float64(0.0))"
      ]
     },
     "execution_count": 508,
     "metadata": {},
     "output_type": "execute_result"
    }
   ],
   "source": [
    "stat, p = stats.mannwhitneyu(\n",
    "    polo_prata_a[\"Interval\"].values,\n",
    "    polo_prata_b[\"Interval\"].values,\n",
    "    alternative='two-sided'\n",
    ")\n",
    "\n",
    "stat, p"
   ]
  },
  {
   "cell_type": "markdown",
   "metadata": {},
   "source": [
    "## Polo Branco"
   ]
  },
  {
   "cell_type": "markdown",
   "metadata": {},
   "source": [
    "### OBD A"
   ]
  },
  {
   "cell_type": "code",
   "execution_count": 509,
   "metadata": {},
   "outputs": [
    {
     "data": {
      "text/html": [
       "<div>\n",
       "<style scoped>\n",
       "    .dataframe tbody tr th:only-of-type {\n",
       "        vertical-align: middle;\n",
       "    }\n",
       "\n",
       "    .dataframe tbody tr th {\n",
       "        vertical-align: top;\n",
       "    }\n",
       "\n",
       "    .dataframe thead th {\n",
       "        text-align: right;\n",
       "    }\n",
       "</style>\n",
       "<table border=\"1\" class=\"dataframe\">\n",
       "  <thead>\n",
       "    <tr style=\"text-align: right;\">\n",
       "      <th></th>\n",
       "      <th>Timestamp</th>\n",
       "      <th>CommandSent</th>\n",
       "      <th>Response</th>\n",
       "      <th>Interval</th>\n",
       "      <th>CommandsCount</th>\n",
       "      <th>ResponsesCount</th>\n",
       "      <th>Failed</th>\n",
       "    </tr>\n",
       "  </thead>\n",
       "  <tbody>\n",
       "    <tr>\n",
       "      <th>0</th>\n",
       "      <td>1739984710529</td>\n",
       "      <td>speed</td>\n",
       "      <td>0.0</td>\n",
       "      <td>272</td>\n",
       "      <td>1</td>\n",
       "      <td>1</td>\n",
       "      <td>0</td>\n",
       "    </tr>\n",
       "    <tr>\n",
       "      <th>1</th>\n",
       "      <td>1739984710819</td>\n",
       "      <td>rpm</td>\n",
       "      <td>980.0</td>\n",
       "      <td>137</td>\n",
       "      <td>2</td>\n",
       "      <td>2</td>\n",
       "      <td>0</td>\n",
       "    </tr>\n",
       "    <tr>\n",
       "      <th>2</th>\n",
       "      <td>1739984710956</td>\n",
       "      <td>engine_load</td>\n",
       "      <td>16.0</td>\n",
       "      <td>145</td>\n",
       "      <td>3</td>\n",
       "      <td>3</td>\n",
       "      <td>0</td>\n",
       "    </tr>\n",
       "    <tr>\n",
       "      <th>3</th>\n",
       "      <td>1739984711101</td>\n",
       "      <td>engine_oil_temperature</td>\n",
       "      <td>NO DATA\\r&gt;</td>\n",
       "      <td>154</td>\n",
       "      <td>4</td>\n",
       "      <td>4</td>\n",
       "      <td>1</td>\n",
       "    </tr>\n",
       "    <tr>\n",
       "      <th>4</th>\n",
       "      <td>1739984711255</td>\n",
       "      <td>coolant_temp</td>\n",
       "      <td>87.0</td>\n",
       "      <td>150</td>\n",
       "      <td>5</td>\n",
       "      <td>5</td>\n",
       "      <td>1</td>\n",
       "    </tr>\n",
       "    <tr>\n",
       "      <th>5</th>\n",
       "      <td>1739984711405</td>\n",
       "      <td>mass_air_flow</td>\n",
       "      <td>NO DATA\\r&gt;</td>\n",
       "      <td>148</td>\n",
       "      <td>6</td>\n",
       "      <td>6</td>\n",
       "      <td>2</td>\n",
       "    </tr>\n",
       "    <tr>\n",
       "      <th>6</th>\n",
       "      <td>1739984711553</td>\n",
       "      <td>throttle_position</td>\n",
       "      <td>16.0</td>\n",
       "      <td>147</td>\n",
       "      <td>7</td>\n",
       "      <td>7</td>\n",
       "      <td>2</td>\n",
       "    </tr>\n",
       "    <tr>\n",
       "      <th>7</th>\n",
       "      <td>1739984711700</td>\n",
       "      <td>voltage_control_module</td>\n",
       "      <td>13.52</td>\n",
       "      <td>151</td>\n",
       "      <td>8</td>\n",
       "      <td>8</td>\n",
       "      <td>2</td>\n",
       "    </tr>\n",
       "    <tr>\n",
       "      <th>8</th>\n",
       "      <td>1739984711851</td>\n",
       "      <td>fuel_level</td>\n",
       "      <td>67.84</td>\n",
       "      <td>148</td>\n",
       "      <td>9</td>\n",
       "      <td>9</td>\n",
       "      <td>2</td>\n",
       "    </tr>\n",
       "    <tr>\n",
       "      <th>9</th>\n",
       "      <td>1739984711999</td>\n",
       "      <td>fuel_pressure</td>\n",
       "      <td>NO DATA\\r&gt;</td>\n",
       "      <td>156</td>\n",
       "      <td>10</td>\n",
       "      <td>10</td>\n",
       "      <td>3</td>\n",
       "    </tr>\n",
       "  </tbody>\n",
       "</table>\n",
       "</div>"
      ],
      "text/plain": [
       "       Timestamp             CommandSent    Response  Interval  CommandsCount  \\\n",
       "0  1739984710529                   speed         0.0       272              1   \n",
       "1  1739984710819                     rpm       980.0       137              2   \n",
       "2  1739984710956             engine_load        16.0       145              3   \n",
       "3  1739984711101  engine_oil_temperature  NO DATA\\r>       154              4   \n",
       "4  1739984711255            coolant_temp        87.0       150              5   \n",
       "5  1739984711405           mass_air_flow  NO DATA\\r>       148              6   \n",
       "6  1739984711553       throttle_position        16.0       147              7   \n",
       "7  1739984711700  voltage_control_module       13.52       151              8   \n",
       "8  1739984711851              fuel_level       67.84       148              9   \n",
       "9  1739984711999           fuel_pressure  NO DATA\\r>       156             10   \n",
       "\n",
       "   ResponsesCount  Failed  \n",
       "0               1       0  \n",
       "1               2       0  \n",
       "2               3       0  \n",
       "3               4       1  \n",
       "4               5       1  \n",
       "5               6       2  \n",
       "6               7       2  \n",
       "7               8       2  \n",
       "8               9       2  \n",
       "9              10       3  "
      ]
     },
     "execution_count": 509,
     "metadata": {},
     "output_type": "execute_result"
    }
   ],
   "source": [
    "polo_branco_a = datasets[\"polo_branco\"][\"A\"][\"debug\"]\n",
    "\n",
    "polo_branco_a.head(10)"
   ]
  },
  {
   "cell_type": "code",
   "execution_count": 510,
   "metadata": {},
   "outputs": [
    {
     "data": {
      "text/plain": [
       "np.float64(149.0)"
      ]
     },
     "execution_count": 510,
     "metadata": {},
     "output_type": "execute_result"
    }
   ],
   "source": [
    "polo_branco_a[\"Interval\"].median()"
   ]
  },
  {
   "cell_type": "code",
   "execution_count": 511,
   "metadata": {},
   "outputs": [
    {
     "data": {
      "text/plain": [
       "CommandSent\n",
       "absolute_barometric_pressure        149.0\n",
       "absolute_load_value                 147.0\n",
       "absolute_throttle_pos_B             148.0\n",
       "accelerator_pedal_pos_D             149.0\n",
       "accelerator_pedal_pos_E             149.0\n",
       "air_fuel_ratio                      149.0\n",
       "catalyst_temp_bank1_sensor1         149.0\n",
       "coolant_temp                        148.0\n",
       "distance_traveled_with_MIL_on       149.0\n",
       "engine_fuel_rate                    147.0\n",
       "engine_load                         149.0\n",
       "engine_oil_temperature              147.0\n",
       "ethanol_percentage                  149.0\n",
       "fuel_level                          148.5\n",
       "fuel_pressure                       149.5\n",
       "fuel_rail_gauge_pressure            149.0\n",
       "fuel_rail_pressure                  148.5\n",
       "intake_air_temperature              149.0\n",
       "intake_manifold_absolut_pressure    149.5\n",
       "mass_air_flow                       150.0\n",
       "relative_throttle_pos               149.0\n",
       "rpm                                 149.0\n",
       "runtime_since_engine_start          149.0\n",
       "speed                               150.0\n",
       "throttle_position                   149.0\n",
       "timing_advance                      149.0\n",
       "voltage_control_module              149.5\n",
       "Name: Interval, dtype: float64"
      ]
     },
     "execution_count": 511,
     "metadata": {},
     "output_type": "execute_result"
    }
   ],
   "source": [
    "polo_branco_a.groupby(\"CommandSent\")[\"Interval\"].median()"
   ]
  },
  {
   "cell_type": "code",
   "execution_count": 512,
   "metadata": {},
   "outputs": [
    {
     "data": {
      "text/plain": [
       "np.float64(283.53)"
      ]
     },
     "execution_count": 512,
     "metadata": {},
     "output_type": "execute_result"
    }
   ],
   "source": [
    "compute_emissions_maf_afr(\n",
    "    air_fuel_ratio=polo_branco_a[\n",
    "        (polo_branco_a[\"CommandSent\"] == \"air_fuel_ratio\") &\n",
    "        ~(polo_branco_a[\"Response\"].str.contains(\"NO DATA\"))\n",
    "    ][\"Response\"].values.astype(float),\n",
    "    mass_air_flow=polo_branco_a[\n",
    "        (polo_branco_a[\"CommandSent\"] == \"mass_air_flow\") &\n",
    "        ~(polo_branco_a[\"Response\"].str.contains(\"NO DATA\"))\n",
    "    ][\"Response\"].values.astype(float),\n",
    "    fuel_type=\"Gasolina\",\n",
    "    rpm=polo_branco_a[\n",
    "        (polo_branco_a[\"CommandSent\"] == \"rpm\") &\n",
    "        ~(polo_branco_a[\"Response\"].str.contains(\"NO DATA\"))\n",
    "    ][\"Response\"].values.astype(float),\n",
    "    intake_air_temperature=polo_branco_a[\n",
    "        (polo_branco_a[\"CommandSent\"] == \"intake_air_temperature\") &\n",
    "        ~(polo_branco_a[\"Response\"].str.contains(\"NO DATA\"))\n",
    "    ][\"Response\"].values.astype(float),\n",
    "    intake_manifold_absolut_pressure=polo_branco_a[\n",
    "        (polo_branco_a[\"CommandSent\"] == \"intake_manifold_absolut_pressure\") &\n",
    "        ~(polo_branco_a[\"Response\"].str.contains(\"NO DATA\"))\n",
    "    ][\"Response\"].values.astype(float),\n",
    "    engine=1.0\n",
    ")[\"emission\"]"
   ]
  },
  {
   "cell_type": "markdown",
   "metadata": {},
   "source": [
    "### OBD B"
   ]
  },
  {
   "cell_type": "code",
   "execution_count": 513,
   "metadata": {},
   "outputs": [
    {
     "data": {
      "text/html": [
       "<div>\n",
       "<style scoped>\n",
       "    .dataframe tbody tr th:only-of-type {\n",
       "        vertical-align: middle;\n",
       "    }\n",
       "\n",
       "    .dataframe tbody tr th {\n",
       "        vertical-align: top;\n",
       "    }\n",
       "\n",
       "    .dataframe thead th {\n",
       "        text-align: right;\n",
       "    }\n",
       "</style>\n",
       "<table border=\"1\" class=\"dataframe\">\n",
       "  <thead>\n",
       "    <tr style=\"text-align: right;\">\n",
       "      <th></th>\n",
       "      <th>Timestamp</th>\n",
       "      <th>CommandSent</th>\n",
       "      <th>Response</th>\n",
       "      <th>Interval</th>\n",
       "      <th>CommandsCount</th>\n",
       "      <th>ResponsesCount</th>\n",
       "      <th>Failed</th>\n",
       "    </tr>\n",
       "  </thead>\n",
       "  <tbody>\n",
       "    <tr>\n",
       "      <th>0</th>\n",
       "      <td>1739985360356</td>\n",
       "      <td>speed</td>\n",
       "      <td>0.0</td>\n",
       "      <td>237</td>\n",
       "      <td>1</td>\n",
       "      <td>1</td>\n",
       "      <td>0</td>\n",
       "    </tr>\n",
       "    <tr>\n",
       "      <th>1</th>\n",
       "      <td>1739985360356</td>\n",
       "      <td>speed</td>\n",
       "      <td>0.0</td>\n",
       "      <td>244</td>\n",
       "      <td>1</td>\n",
       "      <td>2</td>\n",
       "      <td>0</td>\n",
       "    </tr>\n",
       "    <tr>\n",
       "      <th>2</th>\n",
       "      <td>1739985360600</td>\n",
       "      <td>rpm</td>\n",
       "      <td>980.0</td>\n",
       "      <td>171</td>\n",
       "      <td>2</td>\n",
       "      <td>4</td>\n",
       "      <td>0</td>\n",
       "    </tr>\n",
       "    <tr>\n",
       "      <th>3</th>\n",
       "      <td>1739985360600</td>\n",
       "      <td>rpm</td>\n",
       "      <td>974.0</td>\n",
       "      <td>172</td>\n",
       "      <td>2</td>\n",
       "      <td>5</td>\n",
       "      <td>0</td>\n",
       "    </tr>\n",
       "    <tr>\n",
       "      <th>4</th>\n",
       "      <td>1739985360772</td>\n",
       "      <td>engine_load</td>\n",
       "      <td>13.0</td>\n",
       "      <td>178</td>\n",
       "      <td>3</td>\n",
       "      <td>7</td>\n",
       "      <td>0</td>\n",
       "    </tr>\n",
       "    <tr>\n",
       "      <th>5</th>\n",
       "      <td>1739985360772</td>\n",
       "      <td>engine_load</td>\n",
       "      <td>13.0</td>\n",
       "      <td>179</td>\n",
       "      <td>3</td>\n",
       "      <td>8</td>\n",
       "      <td>0</td>\n",
       "    </tr>\n",
       "    <tr>\n",
       "      <th>6</th>\n",
       "      <td>1739985360951</td>\n",
       "      <td>engine_oil_temperature</td>\n",
       "      <td>NO DATA</td>\n",
       "      <td>134</td>\n",
       "      <td>4</td>\n",
       "      <td>10</td>\n",
       "      <td>1</td>\n",
       "    </tr>\n",
       "    <tr>\n",
       "      <th>7</th>\n",
       "      <td>1739985361086</td>\n",
       "      <td>coolant_temp</td>\n",
       "      <td>87.0</td>\n",
       "      <td>180</td>\n",
       "      <td>5</td>\n",
       "      <td>12</td>\n",
       "      <td>1</td>\n",
       "    </tr>\n",
       "    <tr>\n",
       "      <th>8</th>\n",
       "      <td>1739985361086</td>\n",
       "      <td>coolant_temp</td>\n",
       "      <td>87.0</td>\n",
       "      <td>181</td>\n",
       "      <td>5</td>\n",
       "      <td>13</td>\n",
       "      <td>1</td>\n",
       "    </tr>\n",
       "    <tr>\n",
       "      <th>9</th>\n",
       "      <td>1739985361269</td>\n",
       "      <td>mass_air_flow</td>\n",
       "      <td>NO DATA</td>\n",
       "      <td>125</td>\n",
       "      <td>6</td>\n",
       "      <td>15</td>\n",
       "      <td>2</td>\n",
       "    </tr>\n",
       "  </tbody>\n",
       "</table>\n",
       "</div>"
      ],
      "text/plain": [
       "       Timestamp             CommandSent Response  Interval  CommandsCount  \\\n",
       "0  1739985360356                   speed      0.0       237              1   \n",
       "1  1739985360356                   speed      0.0       244              1   \n",
       "2  1739985360600                     rpm    980.0       171              2   \n",
       "3  1739985360600                     rpm    974.0       172              2   \n",
       "4  1739985360772             engine_load     13.0       178              3   \n",
       "5  1739985360772             engine_load     13.0       179              3   \n",
       "6  1739985360951  engine_oil_temperature  NO DATA       134              4   \n",
       "7  1739985361086            coolant_temp     87.0       180              5   \n",
       "8  1739985361086            coolant_temp     87.0       181              5   \n",
       "9  1739985361269           mass_air_flow  NO DATA       125              6   \n",
       "\n",
       "   ResponsesCount  Failed  \n",
       "0               1       0  \n",
       "1               2       0  \n",
       "2               4       0  \n",
       "3               5       0  \n",
       "4               7       0  \n",
       "5               8       0  \n",
       "6              10       1  \n",
       "7              12       1  \n",
       "8              13       1  \n",
       "9              15       2  "
      ]
     },
     "execution_count": 513,
     "metadata": {},
     "output_type": "execute_result"
    }
   ],
   "source": [
    "polo_branco_b = datasets[\"polo_branco\"][\"B\"][\"debug\"]\n",
    "\n",
    "polo_branco_b.head(10)"
   ]
  },
  {
   "cell_type": "code",
   "execution_count": 514,
   "metadata": {},
   "outputs": [
    {
     "data": {
      "text/plain": [
       "np.float64(179.0)"
      ]
     },
     "execution_count": 514,
     "metadata": {},
     "output_type": "execute_result"
    }
   ],
   "source": [
    "polo_branco_b[\"Interval\"].median()"
   ]
  },
  {
   "cell_type": "code",
   "execution_count": 515,
   "metadata": {},
   "outputs": [
    {
     "data": {
      "text/plain": [
       "CommandSent\n",
       "absolute_barometric_pressure        178.0\n",
       "absolute_load_value                 180.0\n",
       "absolute_throttle_pos_B             178.0\n",
       "accelerator_pedal_pos_D             180.0\n",
       "accelerator_pedal_pos_E             178.0\n",
       "air_fuel_ratio                      180.0\n",
       "catalyst_temp_bank1_sensor1         178.0\n",
       "coolant_temp                        180.0\n",
       "distance_traveled_with_MIL_on       178.0\n",
       "engine_fuel_rate                    133.0\n",
       "engine_load                         179.0\n",
       "engine_oil_temperature              131.0\n",
       "ethanol_percentage                  179.0\n",
       "fuel_level                          177.0\n",
       "fuel_pressure                       134.0\n",
       "fuel_rail_gauge_pressure            180.0\n",
       "fuel_rail_pressure                  133.0\n",
       "intake_air_temperature              179.0\n",
       "intake_manifold_absolut_pressure    179.0\n",
       "mass_air_flow                       135.0\n",
       "relative_throttle_pos               179.0\n",
       "rpm                                 179.0\n",
       "runtime_since_engine_start          178.0\n",
       "speed                               181.0\n",
       "throttle_position                   181.0\n",
       "timing_advance                      179.0\n",
       "voltage_control_module              181.0\n",
       "Name: Interval, dtype: float64"
      ]
     },
     "execution_count": 515,
     "metadata": {},
     "output_type": "execute_result"
    }
   ],
   "source": [
    "polo_branco_b.groupby(\"CommandSent\")[\"Interval\"].median()"
   ]
  },
  {
   "cell_type": "code",
   "execution_count": 516,
   "metadata": {},
   "outputs": [
    {
     "data": {
      "text/plain": [
       "np.float64(211.63)"
      ]
     },
     "execution_count": 516,
     "metadata": {},
     "output_type": "execute_result"
    }
   ],
   "source": [
    "compute_emissions_maf_afr(\n",
    "    air_fuel_ratio=polo_branco_b[\n",
    "        (polo_branco_b[\"CommandSent\"] == \"air_fuel_ratio\") &\n",
    "        ~(polo_branco_b[\"Response\"].str.contains(\"NO DATA\"))\n",
    "    ][\"Response\"].values.astype(float),\n",
    "    mass_air_flow=polo_branco_b[\n",
    "        (polo_branco_b[\"CommandSent\"] == \"mass_air_flow\") &\n",
    "        ~(polo_branco_b[\"Response\"].str.contains(\"NO DATA\"))\n",
    "    ][\"Response\"].values.astype(float),\n",
    "    fuel_type=\"Gasolina\",\n",
    "    rpm=polo_branco_b[\n",
    "        (polo_branco_b[\"CommandSent\"] == \"rpm\") &\n",
    "        ~(polo_branco_b[\"Response\"].str.contains(\"NO DATA\"))\n",
    "    ][\"Response\"].values.astype(float),\n",
    "    intake_air_temperature=polo_branco_b[\n",
    "        (polo_branco_b[\"CommandSent\"] == \"intake_air_temperature\") &\n",
    "        ~(polo_branco_b[\"Response\"].str.contains(\"NO DATA\"))\n",
    "    ][\"Response\"].values.astype(float),\n",
    "    intake_manifold_absolut_pressure=polo_branco_b[\n",
    "        (polo_branco_b[\"CommandSent\"] == \"intake_manifold_absolut_pressure\") &\n",
    "        ~(polo_branco_b[\"Response\"].str.contains(\"NO DATA\"))\n",
    "    ][\"Response\"].values.astype(float),\n",
    "    engine=1.0\n",
    ")[\"emission\"]"
   ]
  },
  {
   "cell_type": "markdown",
   "metadata": {},
   "source": [
    "### Plotting"
   ]
  },
  {
   "cell_type": "code",
   "execution_count": 517,
   "metadata": {},
   "outputs": [
    {
     "data": {
      "image/png": "[encoded data removed]",
      "text/plain": [
       "<Figure size 1800x600 with 1 Axes>"
      ]
     },
     "metadata": {},
     "output_type": "display_data"
    }
   ],
   "source": [
    "min_value = min(polo_branco_a[\"Interval\"].min(), polo_branco_b[\"Interval\"].min())\n",
    "max_value = max(polo_branco_a[\"Interval\"].max(), polo_branco_b[\"Interval\"].max())\n",
    "\n",
    "num_bins = 100\n",
    "bins = np.linspace(min_value, max_value, num_bins + 1)\n",
    "\n",
    "plt.figure(figsize=(18, 6))\n",
    "\n",
    "plt.hist(polo_branco_a[\"Interval\"], bins=bins, alpha=0.7, label=\"A\")\n",
    "plt.hist(polo_branco_b[\"Interval\"], bins=bins, alpha=0.7, label=\"B\")\n",
    "\n",
    "plt.xlabel(\"Intervalo\")\n",
    "plt.ylabel(\"Frequência\")\n",
    "\n",
    "plt.xlim(0, 300)\n",
    "\n",
    "plt.legend(loc=\"upper right\", frameon=False)\n",
    "\n",
    "plt.show()"
   ]
  },
  {
   "cell_type": "code",
   "execution_count": 518,
   "metadata": {},
   "outputs": [
    {
     "data": {
      "image/png": "[encoded data removed]",
      "text/plain": [
       "<Figure size 1800x600 with 2 Axes>"
      ]
     },
     "metadata": {},
     "output_type": "display_data"
    }
   ],
   "source": [
    "fig, ax = plt.subplots(1, 2, figsize=(18, 6))\n",
    "\n",
    "stats.probplot(polo_branco_a[\"Interval\"].values, dist=\"norm\", plot=ax[0])\n",
    "\n",
    "stats.probplot(polo_branco_b[\"Interval\"].values, dist=\"norm\", plot=ax[1])\n",
    "\n",
    "plt.tight_layout()\n",
    "plt.show()"
   ]
  },
  {
   "cell_type": "code",
   "execution_count": 519,
   "metadata": {},
   "outputs": [
    {
     "data": {
      "text/plain": [
       "np.float64(-0.6762826073492635)"
      ]
     },
     "execution_count": 519,
     "metadata": {},
     "output_type": "execute_result"
    }
   ],
   "source": [
    "stats.skew(polo_branco_a[\"Interval\"].values)"
   ]
  },
  {
   "cell_type": "code",
   "execution_count": 520,
   "metadata": {},
   "outputs": [
    {
     "data": {
      "text/plain": [
       "np.float64(14.404357556249932)"
      ]
     },
     "execution_count": 520,
     "metadata": {},
     "output_type": "execute_result"
    }
   ],
   "source": [
    "stats.skew(polo_branco_b[\"Interval\"].values)"
   ]
  },
  {
   "cell_type": "code",
   "execution_count": 521,
   "metadata": {},
   "outputs": [
    {
     "data": {
      "text/plain": [
       "np.float64(14.225016780569263)"
      ]
     },
     "execution_count": 521,
     "metadata": {},
     "output_type": "execute_result"
    }
   ],
   "source": [
    "stats.kurtosis(polo_branco_a[\"Interval\"].values)"
   ]
  },
  {
   "cell_type": "code",
   "execution_count": 522,
   "metadata": {},
   "outputs": [
    {
     "data": {
      "text/plain": [
       "np.float64(585.2665025810905)"
      ]
     },
     "execution_count": 522,
     "metadata": {},
     "output_type": "execute_result"
    }
   ],
   "source": [
    "stats.kurtosis(polo_branco_b[\"Interval\"].values)"
   ]
  },
  {
   "cell_type": "code",
   "execution_count": 523,
   "metadata": {},
   "outputs": [
    {
     "data": {
      "text/plain": [
       "KstestResult(statistic=np.float64(0.28244186009567174), pvalue=np.float64(2.5618177597438973e-286), statistic_location=np.int64(143), statistic_sign=np.int8(-1))"
      ]
     },
     "execution_count": 523,
     "metadata": {},
     "output_type": "execute_result"
    }
   ],
   "source": [
    "stats.kstest(polo_branco_a[\"Interval\"].values, \"norm\", args=(polo_branco_a[\"Interval\"].mean(), polo_branco_a[\"Interval\"].std()))"
   ]
  },
  {
   "cell_type": "code",
   "execution_count": 524,
   "metadata": {},
   "outputs": [
    {
     "data": {
      "text/plain": [
       "KstestResult(statistic=np.float64(0.30481394098968895), pvalue=np.float64(0.0), statistic_location=np.int64(174), statistic_sign=np.int8(-1))"
      ]
     },
     "execution_count": 524,
     "metadata": {},
     "output_type": "execute_result"
    }
   ],
   "source": [
    "stats.kstest(polo_branco_b[\"Interval\"].values, \"norm\", args=(polo_branco_b[\"Interval\"].mean(), polo_branco_b[\"Interval\"].std()))"
   ]
  },
  {
   "cell_type": "code",
   "execution_count": 525,
   "metadata": {},
   "outputs": [
    {
     "data": {
      "text/plain": [
       "(np.float64(3234063.5), np.float64(0.0))"
      ]
     },
     "execution_count": 525,
     "metadata": {},
     "output_type": "execute_result"
    }
   ],
   "source": [
    "stat, p = stats.mannwhitneyu(\n",
    "    polo_branco_a[\"Interval\"].values,\n",
    "    polo_branco_b[\"Interval\"].values,\n",
    "    alternative='two-sided'\n",
    ")\n",
    "\n",
    "stat, p"
   ]
  },
  {
   "cell_type": "markdown",
   "metadata": {},
   "source": [
    "## Fit"
   ]
  },
  {
   "cell_type": "markdown",
   "metadata": {},
   "source": [
    "### OBD A"
   ]
  },
  {
   "cell_type": "code",
   "execution_count": 526,
   "metadata": {},
   "outputs": [
    {
     "data": {
      "text/html": [
       "<div>\n",
       "<style scoped>\n",
       "    .dataframe tbody tr th:only-of-type {\n",
       "        vertical-align: middle;\n",
       "    }\n",
       "\n",
       "    .dataframe tbody tr th {\n",
       "        vertical-align: top;\n",
       "    }\n",
       "\n",
       "    .dataframe thead th {\n",
       "        text-align: right;\n",
       "    }\n",
       "</style>\n",
       "<table border=\"1\" class=\"dataframe\">\n",
       "  <thead>\n",
       "    <tr style=\"text-align: right;\">\n",
       "      <th></th>\n",
       "      <th>Timestamp</th>\n",
       "      <th>CommandSent</th>\n",
       "      <th>Response</th>\n",
       "      <th>Interval</th>\n",
       "      <th>CommandsCount</th>\n",
       "      <th>ResponsesCount</th>\n",
       "      <th>Failed</th>\n",
       "    </tr>\n",
       "  </thead>\n",
       "  <tbody>\n",
       "    <tr>\n",
       "      <th>0</th>\n",
       "      <td>1739465416416</td>\n",
       "      <td>speed</td>\n",
       "      <td>0.0</td>\n",
       "      <td>456</td>\n",
       "      <td>1</td>\n",
       "      <td>1</td>\n",
       "      <td>0</td>\n",
       "    </tr>\n",
       "    <tr>\n",
       "      <th>1</th>\n",
       "      <td>1739465416892</td>\n",
       "      <td>rpm</td>\n",
       "      <td>713.0</td>\n",
       "      <td>131</td>\n",
       "      <td>2</td>\n",
       "      <td>2</td>\n",
       "      <td>0</td>\n",
       "    </tr>\n",
       "    <tr>\n",
       "      <th>2</th>\n",
       "      <td>1739465417024</td>\n",
       "      <td>engine_load</td>\n",
       "      <td>22.0</td>\n",
       "      <td>148</td>\n",
       "      <td>3</td>\n",
       "      <td>3</td>\n",
       "      <td>0</td>\n",
       "    </tr>\n",
       "    <tr>\n",
       "      <th>3</th>\n",
       "      <td>1739465417173</td>\n",
       "      <td>engine_oil_temperature</td>\n",
       "      <td>NO DATA\\r&gt;</td>\n",
       "      <td>146</td>\n",
       "      <td>4</td>\n",
       "      <td>4</td>\n",
       "      <td>1</td>\n",
       "    </tr>\n",
       "    <tr>\n",
       "      <th>4</th>\n",
       "      <td>1739465417319</td>\n",
       "      <td>coolant_temp</td>\n",
       "      <td>86.0</td>\n",
       "      <td>153</td>\n",
       "      <td>5</td>\n",
       "      <td>5</td>\n",
       "      <td>1</td>\n",
       "    </tr>\n",
       "    <tr>\n",
       "      <th>5</th>\n",
       "      <td>1739465417472</td>\n",
       "      <td>mass_air_flow</td>\n",
       "      <td>1.68</td>\n",
       "      <td>147</td>\n",
       "      <td>6</td>\n",
       "      <td>6</td>\n",
       "      <td>1</td>\n",
       "    </tr>\n",
       "    <tr>\n",
       "      <th>6</th>\n",
       "      <td>1739465417620</td>\n",
       "      <td>throttle_position</td>\n",
       "      <td>15.0</td>\n",
       "      <td>149</td>\n",
       "      <td>7</td>\n",
       "      <td>7</td>\n",
       "      <td>1</td>\n",
       "    </tr>\n",
       "    <tr>\n",
       "      <th>7</th>\n",
       "      <td>1739465417769</td>\n",
       "      <td>voltage_control_module</td>\n",
       "      <td>14.13</td>\n",
       "      <td>153</td>\n",
       "      <td>8</td>\n",
       "      <td>8</td>\n",
       "      <td>1</td>\n",
       "    </tr>\n",
       "    <tr>\n",
       "      <th>8</th>\n",
       "      <td>1739465417922</td>\n",
       "      <td>fuel_level</td>\n",
       "      <td>65.49</td>\n",
       "      <td>147</td>\n",
       "      <td>9</td>\n",
       "      <td>9</td>\n",
       "      <td>1</td>\n",
       "    </tr>\n",
       "    <tr>\n",
       "      <th>9</th>\n",
       "      <td>1739465418069</td>\n",
       "      <td>fuel_pressure</td>\n",
       "      <td>NO DATA\\r&gt;</td>\n",
       "      <td>152</td>\n",
       "      <td>10</td>\n",
       "      <td>10</td>\n",
       "      <td>2</td>\n",
       "    </tr>\n",
       "  </tbody>\n",
       "</table>\n",
       "</div>"
      ],
      "text/plain": [
       "       Timestamp             CommandSent    Response  Interval  CommandsCount  \\\n",
       "0  1739465416416                   speed         0.0       456              1   \n",
       "1  1739465416892                     rpm       713.0       131              2   \n",
       "2  1739465417024             engine_load        22.0       148              3   \n",
       "3  1739465417173  engine_oil_temperature  NO DATA\\r>       146              4   \n",
       "4  1739465417319            coolant_temp        86.0       153              5   \n",
       "5  1739465417472           mass_air_flow        1.68       147              6   \n",
       "6  1739465417620       throttle_position        15.0       149              7   \n",
       "7  1739465417769  voltage_control_module       14.13       153              8   \n",
       "8  1739465417922              fuel_level       65.49       147              9   \n",
       "9  1739465418069           fuel_pressure  NO DATA\\r>       152             10   \n",
       "\n",
       "   ResponsesCount  Failed  \n",
       "0               1       0  \n",
       "1               2       0  \n",
       "2               3       0  \n",
       "3               4       1  \n",
       "4               5       1  \n",
       "5               6       1  \n",
       "6               7       1  \n",
       "7               8       1  \n",
       "8               9       1  \n",
       "9              10       2  "
      ]
     },
     "execution_count": 526,
     "metadata": {},
     "output_type": "execute_result"
    }
   ],
   "source": [
    "fit_a = datasets[\"fit\"][\"A\"][\"debug\"]\n",
    "\n",
    "fit_a.head(10)"
   ]
  },
  {
   "cell_type": "code",
   "execution_count": 527,
   "metadata": {},
   "outputs": [
    {
     "data": {
      "text/plain": [
       "np.float64(149.0)"
      ]
     },
     "execution_count": 527,
     "metadata": {},
     "output_type": "execute_result"
    }
   ],
   "source": [
    "fit_a[\"Interval\"].median()"
   ]
  },
  {
   "cell_type": "code",
   "execution_count": 528,
   "metadata": {},
   "outputs": [
    {
     "data": {
      "text/plain": [
       "CommandSent\n",
       "absolute_barometric_pressure        150.0\n",
       "absolute_load_value                 148.0\n",
       "absolute_throttle_pos_B             150.0\n",
       "accelerator_pedal_pos_D             150.0\n",
       "accelerator_pedal_pos_E             150.0\n",
       "air_fuel_ratio                      150.0\n",
       "catalyst_temp_bank1_sensor1         150.0\n",
       "coolant_temp                        149.0\n",
       "distance_traveled_with_MIL_on       150.0\n",
       "engine_fuel_rate                    148.0\n",
       "engine_load                         149.0\n",
       "engine_oil_temperature              148.0\n",
       "ethanol_percentage                  148.0\n",
       "fuel_level                          149.0\n",
       "fuel_pressure                       149.0\n",
       "fuel_rail_gauge_pressure            150.0\n",
       "fuel_rail_pressure                  148.0\n",
       "intake_air_temperature              150.0\n",
       "intake_manifold_absolut_pressure    150.0\n",
       "mass_air_flow                       150.0\n",
       "relative_throttle_pos               148.0\n",
       "rpm                                 148.0\n",
       "runtime_since_engine_start          149.0\n",
       "speed                               150.0\n",
       "throttle_position                   150.0\n",
       "timing_advance                      150.0\n",
       "voltage_control_module              149.0\n",
       "Name: Interval, dtype: float64"
      ]
     },
     "execution_count": 528,
     "metadata": {},
     "output_type": "execute_result"
    }
   ],
   "source": [
    "fit_a.groupby(\"CommandSent\")[\"Interval\"].median()"
   ]
  },
  {
   "cell_type": "code",
   "execution_count": 529,
   "metadata": {},
   "outputs": [
    {
     "data": {
      "text/plain": [
       "np.float64(223.0)"
      ]
     },
     "execution_count": 529,
     "metadata": {},
     "output_type": "execute_result"
    }
   ],
   "source": [
    "compute_emissions_maf_afr(\n",
    "    air_fuel_ratio=fit_a[\n",
    "        (fit_a[\"CommandSent\"] == \"air_fuel_ratio\") &\n",
    "        ~(fit_a[\"Response\"].str.contains(\"NO DATA\"))\n",
    "    ][\"Response\"].values.astype(float),\n",
    "    mass_air_flow=fit_a[\n",
    "        (fit_a[\"CommandSent\"] == \"mass_air_flow\") &\n",
    "        ~(fit_a[\"Response\"].str.contains(\"NO DATA\"))\n",
    "    ][\"Response\"].values.astype(float),\n",
    "    fuel_type=\"Gasolina\",\n",
    "    rpm=fit_a[\n",
    "        (fit_a[\"CommandSent\"] == \"rpm\") &\n",
    "        ~(fit_a[\"Response\"].str.contains(\"NO DATA\"))\n",
    "    ][\"Response\"].values.astype(float),\n",
    "    intake_air_temperature=fit_a[\n",
    "        (fit_a[\"CommandSent\"] == \"intake_air_temperature\") &\n",
    "        ~(fit_a[\"Response\"].str.contains(\"NO DATA\"))\n",
    "    ][\"Response\"].values.astype(float),\n",
    "    intake_manifold_absolut_pressure=fit_a[\n",
    "        (fit_a[\"CommandSent\"] == \"intake_manifold_absolut_pressure\") &\n",
    "        ~(fit_a[\"Response\"].str.contains(\"NO DATA\"))\n",
    "    ][\"Response\"].values.astype(float),\n",
    "    engine=1.6\n",
    ")[\"emission\"]"
   ]
  },
  {
   "cell_type": "markdown",
   "metadata": {},
   "source": [
    "### OBD B"
   ]
  },
  {
   "cell_type": "code",
   "execution_count": 530,
   "metadata": {},
   "outputs": [
    {
     "data": {
      "text/html": [
       "<div>\n",
       "<style scoped>\n",
       "    .dataframe tbody tr th:only-of-type {\n",
       "        vertical-align: middle;\n",
       "    }\n",
       "\n",
       "    .dataframe tbody tr th {\n",
       "        vertical-align: top;\n",
       "    }\n",
       "\n",
       "    .dataframe thead th {\n",
       "        text-align: right;\n",
       "    }\n",
       "</style>\n",
       "<table border=\"1\" class=\"dataframe\">\n",
       "  <thead>\n",
       "    <tr style=\"text-align: right;\">\n",
       "      <th></th>\n",
       "      <th>Timestamp</th>\n",
       "      <th>CommandSent</th>\n",
       "      <th>Response</th>\n",
       "      <th>Interval</th>\n",
       "      <th>CommandsCount</th>\n",
       "      <th>ResponsesCount</th>\n",
       "      <th>Failed</th>\n",
       "    </tr>\n",
       "  </thead>\n",
       "  <tbody>\n",
       "    <tr>\n",
       "      <th>0</th>\n",
       "      <td>1739466128746</td>\n",
       "      <td>speed</td>\n",
       "      <td>0.0</td>\n",
       "      <td>159</td>\n",
       "      <td>1</td>\n",
       "      <td>1</td>\n",
       "      <td>0</td>\n",
       "    </tr>\n",
       "    <tr>\n",
       "      <th>1</th>\n",
       "      <td>1739466128948</td>\n",
       "      <td>rpm</td>\n",
       "      <td>743.0</td>\n",
       "      <td>135</td>\n",
       "      <td>2</td>\n",
       "      <td>3</td>\n",
       "      <td>0</td>\n",
       "    </tr>\n",
       "    <tr>\n",
       "      <th>2</th>\n",
       "      <td>1739466129133</td>\n",
       "      <td>engine_load</td>\n",
       "      <td>19.0</td>\n",
       "      <td>133</td>\n",
       "      <td>3</td>\n",
       "      <td>5</td>\n",
       "      <td>0</td>\n",
       "    </tr>\n",
       "    <tr>\n",
       "      <th>3</th>\n",
       "      <td>1739466129308</td>\n",
       "      <td>engine_oil_temperature</td>\n",
       "      <td>NO DATA</td>\n",
       "      <td>136</td>\n",
       "      <td>4</td>\n",
       "      <td>7</td>\n",
       "      <td>1</td>\n",
       "    </tr>\n",
       "    <tr>\n",
       "      <th>4</th>\n",
       "      <td>1739466129445</td>\n",
       "      <td>coolant_temp</td>\n",
       "      <td>90.0</td>\n",
       "      <td>135</td>\n",
       "      <td>5</td>\n",
       "      <td>9</td>\n",
       "      <td>1</td>\n",
       "    </tr>\n",
       "    <tr>\n",
       "      <th>5</th>\n",
       "      <td>1739466129623</td>\n",
       "      <td>mass_air_flow</td>\n",
       "      <td>1.59</td>\n",
       "      <td>135</td>\n",
       "      <td>6</td>\n",
       "      <td>11</td>\n",
       "      <td>1</td>\n",
       "    </tr>\n",
       "    <tr>\n",
       "      <th>6</th>\n",
       "      <td>1739466129803</td>\n",
       "      <td>throttle_position</td>\n",
       "      <td>14.0</td>\n",
       "      <td>137</td>\n",
       "      <td>7</td>\n",
       "      <td>13</td>\n",
       "      <td>1</td>\n",
       "    </tr>\n",
       "    <tr>\n",
       "      <th>7</th>\n",
       "      <td>1739466129983</td>\n",
       "      <td>voltage_control_module</td>\n",
       "      <td>14.1</td>\n",
       "      <td>136</td>\n",
       "      <td>8</td>\n",
       "      <td>15</td>\n",
       "      <td>1</td>\n",
       "    </tr>\n",
       "    <tr>\n",
       "      <th>8</th>\n",
       "      <td>1739466130165</td>\n",
       "      <td>fuel_level</td>\n",
       "      <td>65.1</td>\n",
       "      <td>134</td>\n",
       "      <td>9</td>\n",
       "      <td>17</td>\n",
       "      <td>1</td>\n",
       "    </tr>\n",
       "    <tr>\n",
       "      <th>9</th>\n",
       "      <td>1739466130344</td>\n",
       "      <td>fuel_pressure</td>\n",
       "      <td>NO DATA</td>\n",
       "      <td>139</td>\n",
       "      <td>10</td>\n",
       "      <td>19</td>\n",
       "      <td>2</td>\n",
       "    </tr>\n",
       "  </tbody>\n",
       "</table>\n",
       "</div>"
      ],
      "text/plain": [
       "       Timestamp             CommandSent Response  Interval  CommandsCount  \\\n",
       "0  1739466128746                   speed      0.0       159              1   \n",
       "1  1739466128948                     rpm    743.0       135              2   \n",
       "2  1739466129133             engine_load     19.0       133              3   \n",
       "3  1739466129308  engine_oil_temperature  NO DATA       136              4   \n",
       "4  1739466129445            coolant_temp     90.0       135              5   \n",
       "5  1739466129623           mass_air_flow     1.59       135              6   \n",
       "6  1739466129803       throttle_position     14.0       137              7   \n",
       "7  1739466129983  voltage_control_module     14.1       136              8   \n",
       "8  1739466130165              fuel_level     65.1       134              9   \n",
       "9  1739466130344           fuel_pressure  NO DATA       139             10   \n",
       "\n",
       "   ResponsesCount  Failed  \n",
       "0               1       0  \n",
       "1               3       0  \n",
       "2               5       0  \n",
       "3               7       1  \n",
       "4               9       1  \n",
       "5              11       1  \n",
       "6              13       1  \n",
       "7              15       1  \n",
       "8              17       1  \n",
       "9              19       2  "
      ]
     },
     "execution_count": 530,
     "metadata": {},
     "output_type": "execute_result"
    }
   ],
   "source": [
    "fit_b = datasets[\"fit\"][\"B\"][\"debug\"]\n",
    "\n",
    "fit_b.head(10)"
   ]
  },
  {
   "cell_type": "code",
   "execution_count": 531,
   "metadata": {},
   "outputs": [
    {
     "data": {
      "text/plain": [
       "np.float64(136.0)"
      ]
     },
     "execution_count": 531,
     "metadata": {},
     "output_type": "execute_result"
    }
   ],
   "source": [
    "fit_b[\"Interval\"].median()"
   ]
  },
  {
   "cell_type": "code",
   "execution_count": 532,
   "metadata": {},
   "outputs": [
    {
     "data": {
      "text/plain": [
       "CommandSent\n",
       "absolute_barometric_pressure        136.0\n",
       "absolute_load_value                 135.0\n",
       "absolute_throttle_pos_B             137.0\n",
       "accelerator_pedal_pos_D             136.0\n",
       "accelerator_pedal_pos_E             136.0\n",
       "air_fuel_ratio                      136.0\n",
       "catalyst_temp_bank1_sensor1         136.0\n",
       "coolant_temp                        134.5\n",
       "distance_traveled_with_MIL_on       136.0\n",
       "engine_fuel_rate                    136.0\n",
       "engine_load                         135.0\n",
       "engine_oil_temperature              136.0\n",
       "ethanol_percentage                  136.0\n",
       "fuel_level                          136.0\n",
       "fuel_pressure                       136.0\n",
       "fuel_rail_gauge_pressure            135.0\n",
       "fuel_rail_pressure                  133.5\n",
       "intake_air_temperature              136.0\n",
       "intake_manifold_absolut_pressure    135.0\n",
       "mass_air_flow                       136.0\n",
       "relative_throttle_pos               136.0\n",
       "rpm                                 136.0\n",
       "runtime_since_engine_start          136.0\n",
       "speed                               137.0\n",
       "throttle_position                   136.0\n",
       "timing_advance                      137.0\n",
       "voltage_control_module              136.0\n",
       "Name: Interval, dtype: float64"
      ]
     },
     "execution_count": 532,
     "metadata": {},
     "output_type": "execute_result"
    }
   ],
   "source": [
    "fit_b.groupby(\"CommandSent\")[\"Interval\"].median()"
   ]
  },
  {
   "cell_type": "code",
   "execution_count": 533,
   "metadata": {},
   "outputs": [
    {
     "data": {
      "text/plain": [
       "np.float64(178.34)"
      ]
     },
     "execution_count": 533,
     "metadata": {},
     "output_type": "execute_result"
    }
   ],
   "source": [
    "compute_emissions_maf_afr(\n",
    "    air_fuel_ratio=fit_b[\n",
    "        (fit_b[\"CommandSent\"] == \"air_fuel_ratio\") &\n",
    "        ~(fit_b[\"Response\"].str.contains(\"NO DATA\"))\n",
    "    ][\"Response\"].values.astype(float),\n",
    "    mass_air_flow=fit_b[\n",
    "        (fit_b[\"CommandSent\"] == \"mass_air_flow\") &\n",
    "        ~(fit_b[\"Response\"].str.contains(\"NO DATA\"))\n",
    "    ][\"Response\"].values.astype(float),\n",
    "    fuel_type=\"Gasolina\",\n",
    "    rpm=fit_b[\n",
    "        (fit_b[\"CommandSent\"] == \"rpm\") &\n",
    "        ~(fit_b[\"Response\"].str.contains(\"NO DATA\"))\n",
    "    ][\"Response\"].values.astype(float),\n",
    "    intake_air_temperature=fit_b[\n",
    "        (fit_b[\"CommandSent\"] == \"intake_air_temperature\") &\n",
    "        ~(fit_b[\"Response\"].str.contains(\"NO DATA\"))\n",
    "    ][\"Response\"].values.astype(float),\n",
    "    intake_manifold_absolut_pressure=fit_b[\n",
    "        (fit_b[\"CommandSent\"] == \"intake_manifold_absolut_pressure\") &\n",
    "        ~(fit_b[\"Response\"].str.contains(\"NO DATA\"))\n",
    "    ][\"Response\"].values.astype(float),\n",
    "    engine=1.6\n",
    ")[\"emission\"]"
   ]
  },
  {
   "cell_type": "markdown",
   "metadata": {},
   "source": [
    "### Plotting"
   ]
  },
  {
   "cell_type": "code",
   "execution_count": 534,
   "metadata": {},
   "outputs": [
    {
     "data": {
      "image/png": "[encoded data removed]",
      "text/plain": [
       "<Figure size 1800x600 with 1 Axes>"
      ]
     },
     "metadata": {},
     "output_type": "display_data"
    }
   ],
   "source": [
    "min_value = min(fit_a[\"Interval\"].min(), fit_b[\"Interval\"].min())\n",
    "max_value = max(fit_a[\"Interval\"].max(), fit_b[\"Interval\"].max())\n",
    "\n",
    "num_bins = 100\n",
    "bins = np.linspace(min_value, max_value, num_bins + 1)\n",
    "\n",
    "plt.figure(figsize=(18, 6))\n",
    "\n",
    "plt.hist(fit_a[\"Interval\"], bins=bins, alpha=0.7, label=\"A\")\n",
    "plt.hist(fit_b[\"Interval\"], bins=bins, alpha=0.7, label=\"B\")\n",
    "\n",
    "plt.xlabel(\"Intervalo\")\n",
    "plt.ylabel(\"Frequência\")\n",
    "\n",
    "plt.xlim(0, 300)\n",
    "\n",
    "plt.legend(loc=\"upper right\", frameon=False)\n",
    "\n",
    "plt.show()"
   ]
  },
  {
   "cell_type": "code",
   "execution_count": 535,
   "metadata": {},
   "outputs": [
    {
     "data": {
      "image/png": "[encoded data removed]",
      "text/plain": [
       "<Figure size 1800x600 with 2 Axes>"
      ]
     },
     "metadata": {},
     "output_type": "display_data"
    }
   ],
   "source": [
    "fig, ax = plt.subplots(1, 2, figsize=(18, 6))\n",
    "\n",
    "stats.probplot(fit_a[\"Interval\"].values, dist=\"norm\", plot=ax[0])\n",
    "\n",
    "stats.probplot(fit_b[\"Interval\"].values, dist=\"norm\", plot=ax[1])\n",
    "\n",
    "plt.tight_layout()\n",
    "plt.show()"
   ]
  },
  {
   "cell_type": "code",
   "execution_count": 536,
   "metadata": {},
   "outputs": [
    {
     "data": {
      "text/plain": [
       "np.float64(-0.5335385417028382)"
      ]
     },
     "execution_count": 536,
     "metadata": {},
     "output_type": "execute_result"
    }
   ],
   "source": [
    "stats.skew(fit_a[\"Interval\"].values)"
   ]
  },
  {
   "cell_type": "code",
   "execution_count": 537,
   "metadata": {},
   "outputs": [
    {
     "data": {
      "text/plain": [
       "np.float64(3.5897090849144453)"
      ]
     },
     "execution_count": 537,
     "metadata": {},
     "output_type": "execute_result"
    }
   ],
   "source": [
    "stats.skew(fit_b[\"Interval\"].values)"
   ]
  },
  {
   "cell_type": "code",
   "execution_count": 538,
   "metadata": {},
   "outputs": [
    {
     "data": {
      "text/plain": [
       "np.float64(19.187941113923692)"
      ]
     },
     "execution_count": 538,
     "metadata": {},
     "output_type": "execute_result"
    }
   ],
   "source": [
    "stats.kurtosis(fit_a[\"Interval\"].values)"
   ]
  },
  {
   "cell_type": "code",
   "execution_count": 539,
   "metadata": {},
   "outputs": [
    {
     "data": {
      "text/plain": [
       "np.float64(20.101822843562097)"
      ]
     },
     "execution_count": 539,
     "metadata": {},
     "output_type": "execute_result"
    }
   ],
   "source": [
    "stats.kurtosis(fit_b[\"Interval\"].values)"
   ]
  },
  {
   "cell_type": "code",
   "execution_count": 540,
   "metadata": {},
   "outputs": [
    {
     "data": {
      "text/plain": [
       "KstestResult(statistic=np.float64(0.2908322033399026), pvalue=np.float64(0.0), statistic_location=np.int64(144), statistic_sign=np.int8(-1))"
      ]
     },
     "execution_count": 540,
     "metadata": {},
     "output_type": "execute_result"
    }
   ],
   "source": [
    "stats.kstest(fit_a[\"Interval\"].values, \"norm\", args=(fit_a[\"Interval\"].mean(), fit_a[\"Interval\"].std()))"
   ]
  },
  {
   "cell_type": "code",
   "execution_count": 541,
   "metadata": {},
   "outputs": [
    {
     "data": {
      "text/plain": [
       "KstestResult(statistic=np.float64(0.1738297707635441), pvalue=np.float64(1.9311500410659068e-101), statistic_location=np.int64(139), statistic_sign=np.int8(1))"
      ]
     },
     "execution_count": 541,
     "metadata": {},
     "output_type": "execute_result"
    }
   ],
   "source": [
    "stats.kstest(fit_b[\"Interval\"].values, \"norm\", args=(fit_b[\"Interval\"].mean(), fit_b[\"Interval\"].std()))"
   ]
  },
  {
   "cell_type": "code",
   "execution_count": 542,
   "metadata": {},
   "outputs": [
    {
     "data": {
      "text/plain": [
       "(np.float64(14150464.0), np.float64(0.0))"
      ]
     },
     "execution_count": 542,
     "metadata": {},
     "output_type": "execute_result"
    }
   ],
   "source": [
    "stat, p = stats.mannwhitneyu(\n",
    "    fit_a[\"Interval\"].values,\n",
    "    fit_b[\"Interval\"].values,\n",
    "    alternative='two-sided'\n",
    ")\n",
    "\n",
    "stat, p"
   ]
  },
  {
   "cell_type": "markdown",
   "metadata": {},
   "source": [
    "## Tcross"
   ]
  },
  {
   "cell_type": "markdown",
   "metadata": {},
   "source": [
    "### OBD A"
   ]
  },
  {
   "cell_type": "code",
   "execution_count": 543,
   "metadata": {},
   "outputs": [
    {
     "data": {
      "text/html": [
       "<div>\n",
       "<style scoped>\n",
       "    .dataframe tbody tr th:only-of-type {\n",
       "        vertical-align: middle;\n",
       "    }\n",
       "\n",
       "    .dataframe tbody tr th {\n",
       "        vertical-align: top;\n",
       "    }\n",
       "\n",
       "    .dataframe thead th {\n",
       "        text-align: right;\n",
       "    }\n",
       "</style>\n",
       "<table border=\"1\" class=\"dataframe\">\n",
       "  <thead>\n",
       "    <tr style=\"text-align: right;\">\n",
       "      <th></th>\n",
       "      <th>Timestamp</th>\n",
       "      <th>CommandSent</th>\n",
       "      <th>Response</th>\n",
       "      <th>Interval</th>\n",
       "      <th>CommandsCount</th>\n",
       "      <th>ResponsesCount</th>\n",
       "      <th>Failed</th>\n",
       "    </tr>\n",
       "  </thead>\n",
       "  <tbody>\n",
       "    <tr>\n",
       "      <th>0</th>\n",
       "      <td>1739468081274</td>\n",
       "      <td>speed</td>\n",
       "      <td>0.0</td>\n",
       "      <td>963</td>\n",
       "      <td>1</td>\n",
       "      <td>1</td>\n",
       "      <td>0</td>\n",
       "    </tr>\n",
       "    <tr>\n",
       "      <th>1</th>\n",
       "      <td>1739468082238</td>\n",
       "      <td>rpm</td>\n",
       "      <td>791.0</td>\n",
       "      <td>177</td>\n",
       "      <td>2</td>\n",
       "      <td>2</td>\n",
       "      <td>0</td>\n",
       "    </tr>\n",
       "    <tr>\n",
       "      <th>2</th>\n",
       "      <td>1739468082415</td>\n",
       "      <td>engine_load</td>\n",
       "      <td>31.0</td>\n",
       "      <td>119</td>\n",
       "      <td>3</td>\n",
       "      <td>3</td>\n",
       "      <td>0</td>\n",
       "    </tr>\n",
       "    <tr>\n",
       "      <th>3</th>\n",
       "      <td>1739468082535</td>\n",
       "      <td>engine_oil_temperature</td>\n",
       "      <td>NO DATA\\r&gt;</td>\n",
       "      <td>152</td>\n",
       "      <td>4</td>\n",
       "      <td>4</td>\n",
       "      <td>1</td>\n",
       "    </tr>\n",
       "    <tr>\n",
       "      <th>4</th>\n",
       "      <td>1739468082687</td>\n",
       "      <td>coolant_temp</td>\n",
       "      <td>87.0</td>\n",
       "      <td>148</td>\n",
       "      <td>5</td>\n",
       "      <td>5</td>\n",
       "      <td>1</td>\n",
       "    </tr>\n",
       "    <tr>\n",
       "      <th>5</th>\n",
       "      <td>1739468082835</td>\n",
       "      <td>mass_air_flow</td>\n",
       "      <td>2.03</td>\n",
       "      <td>150</td>\n",
       "      <td>6</td>\n",
       "      <td>6</td>\n",
       "      <td>1</td>\n",
       "    </tr>\n",
       "    <tr>\n",
       "      <th>6</th>\n",
       "      <td>1739468082985</td>\n",
       "      <td>throttle_position</td>\n",
       "      <td>17.0</td>\n",
       "      <td>152</td>\n",
       "      <td>7</td>\n",
       "      <td>7</td>\n",
       "      <td>1</td>\n",
       "    </tr>\n",
       "    <tr>\n",
       "      <th>7</th>\n",
       "      <td>1739468083137</td>\n",
       "      <td>voltage_control_module</td>\n",
       "      <td>12.68</td>\n",
       "      <td>149</td>\n",
       "      <td>8</td>\n",
       "      <td>8</td>\n",
       "      <td>1</td>\n",
       "    </tr>\n",
       "    <tr>\n",
       "      <th>8</th>\n",
       "      <td>1739468083286</td>\n",
       "      <td>fuel_level</td>\n",
       "      <td>51.76</td>\n",
       "      <td>150</td>\n",
       "      <td>9</td>\n",
       "      <td>9</td>\n",
       "      <td>1</td>\n",
       "    </tr>\n",
       "    <tr>\n",
       "      <th>9</th>\n",
       "      <td>1739468083436</td>\n",
       "      <td>fuel_pressure</td>\n",
       "      <td>NO DATA\\r&gt;</td>\n",
       "      <td>180</td>\n",
       "      <td>10</td>\n",
       "      <td>10</td>\n",
       "      <td>2</td>\n",
       "    </tr>\n",
       "  </tbody>\n",
       "</table>\n",
       "</div>"
      ],
      "text/plain": [
       "       Timestamp             CommandSent    Response  Interval  CommandsCount  \\\n",
       "0  1739468081274                   speed         0.0       963              1   \n",
       "1  1739468082238                     rpm       791.0       177              2   \n",
       "2  1739468082415             engine_load        31.0       119              3   \n",
       "3  1739468082535  engine_oil_temperature  NO DATA\\r>       152              4   \n",
       "4  1739468082687            coolant_temp        87.0       148              5   \n",
       "5  1739468082835           mass_air_flow        2.03       150              6   \n",
       "6  1739468082985       throttle_position        17.0       152              7   \n",
       "7  1739468083137  voltage_control_module       12.68       149              8   \n",
       "8  1739468083286              fuel_level       51.76       150              9   \n",
       "9  1739468083436           fuel_pressure  NO DATA\\r>       180             10   \n",
       "\n",
       "   ResponsesCount  Failed  \n",
       "0               1       0  \n",
       "1               2       0  \n",
       "2               3       0  \n",
       "3               4       1  \n",
       "4               5       1  \n",
       "5               6       1  \n",
       "6               7       1  \n",
       "7               8       1  \n",
       "8               9       1  \n",
       "9              10       2  "
      ]
     },
     "execution_count": 543,
     "metadata": {},
     "output_type": "execute_result"
    }
   ],
   "source": [
    "tcross_a = datasets[\"tcross\"][\"A\"][\"debug\"]\n",
    "\n",
    "tcross_a.head(10)"
   ]
  },
  {
   "cell_type": "code",
   "execution_count": 544,
   "metadata": {},
   "outputs": [
    {
     "data": {
      "text/plain": [
       "np.float64(150.0)"
      ]
     },
     "execution_count": 544,
     "metadata": {},
     "output_type": "execute_result"
    }
   ],
   "source": [
    "tcross_a[\"Interval\"].median()"
   ]
  },
  {
   "cell_type": "code",
   "execution_count": 545,
   "metadata": {},
   "outputs": [
    {
     "data": {
      "text/plain": [
       "CommandSent\n",
       "absolute_barometric_pressure        150.0\n",
       "absolute_load_value                 150.0\n",
       "absolute_throttle_pos_B             150.0\n",
       "accelerator_pedal_pos_D             150.0\n",
       "accelerator_pedal_pos_E             149.5\n",
       "air_fuel_ratio                      150.0\n",
       "catalyst_temp_bank1_sensor1         150.0\n",
       "coolant_temp                        150.0\n",
       "distance_traveled_with_MIL_on       150.0\n",
       "engine_fuel_rate                    149.5\n",
       "engine_load                         150.0\n",
       "engine_oil_temperature              149.0\n",
       "ethanol_percentage                  149.5\n",
       "fuel_level                          150.0\n",
       "fuel_pressure                       150.0\n",
       "fuel_rail_gauge_pressure            150.0\n",
       "fuel_rail_pressure                  150.0\n",
       "intake_air_temperature              150.0\n",
       "intake_manifold_absolut_pressure    150.0\n",
       "mass_air_flow                       150.0\n",
       "relative_throttle_pos               150.0\n",
       "rpm                                 149.0\n",
       "runtime_since_engine_start          149.0\n",
       "speed                               149.0\n",
       "throttle_position                   149.5\n",
       "timing_advance                      150.0\n",
       "voltage_control_module              149.0\n",
       "Name: Interval, dtype: float64"
      ]
     },
     "execution_count": 545,
     "metadata": {},
     "output_type": "execute_result"
    }
   ],
   "source": [
    "tcross_a.groupby(\"CommandSent\")[\"Interval\"].median()"
   ]
  },
  {
   "cell_type": "code",
   "execution_count": 546,
   "metadata": {},
   "outputs": [
    {
     "data": {
      "text/plain": [
       "np.float64(207.59)"
      ]
     },
     "execution_count": 546,
     "metadata": {},
     "output_type": "execute_result"
    }
   ],
   "source": [
    "compute_emissions_maf_afr(\n",
    "    air_fuel_ratio=tcross_a[\n",
    "        (tcross_a[\"CommandSent\"] == \"air_fuel_ratio\") &\n",
    "        ~(tcross_a[\"Response\"].str.contains(\"NO DATA\"))\n",
    "    ][\"Response\"].values.astype(float),\n",
    "    mass_air_flow=tcross_a[\n",
    "        (tcross_a[\"CommandSent\"] == \"mass_air_flow\") &\n",
    "        ~(tcross_a[\"Response\"].str.contains(\"NO DATA\"))\n",
    "    ][\"Response\"].values.astype(float),\n",
    "    fuel_type=\"Gasolina\",\n",
    "    rpm=tcross_a[\n",
    "        (tcross_a[\"CommandSent\"] == \"rpm\") &\n",
    "        ~(tcross_a[\"Response\"].str.contains(\"NO DATA\"))\n",
    "    ][\"Response\"].values.astype(float),\n",
    "    intake_air_temperature=tcross_a[\n",
    "        (tcross_a[\"CommandSent\"] == \"intake_air_temperature\") &\n",
    "        ~(tcross_a[\"Response\"].str.contains(\"NO DATA\"))\n",
    "    ][\"Response\"].values.astype(float),\n",
    "    intake_manifold_absolut_pressure=tcross_a[\n",
    "        (tcross_a[\"CommandSent\"] == \"intake_manifold_absolut_pressure\") &\n",
    "        ~(tcross_a[\"Response\"].str.contains(\"NO DATA\"))\n",
    "    ][\"Response\"].values.astype(float),\n",
    "    engine=1.0\n",
    ")[\"emission\"]"
   ]
  },
  {
   "cell_type": "markdown",
   "metadata": {},
   "source": [
    "### OBD B"
   ]
  },
  {
   "cell_type": "code",
   "execution_count": 547,
   "metadata": {},
   "outputs": [
    {
     "data": {
      "text/html": [
       "<div>\n",
       "<style scoped>\n",
       "    .dataframe tbody tr th:only-of-type {\n",
       "        vertical-align: middle;\n",
       "    }\n",
       "\n",
       "    .dataframe tbody tr th {\n",
       "        vertical-align: top;\n",
       "    }\n",
       "\n",
       "    .dataframe thead th {\n",
       "        text-align: right;\n",
       "    }\n",
       "</style>\n",
       "<table border=\"1\" class=\"dataframe\">\n",
       "  <thead>\n",
       "    <tr style=\"text-align: right;\">\n",
       "      <th></th>\n",
       "      <th>Timestamp</th>\n",
       "      <th>CommandSent</th>\n",
       "      <th>Response</th>\n",
       "      <th>Interval</th>\n",
       "      <th>CommandsCount</th>\n",
       "      <th>ResponsesCount</th>\n",
       "      <th>Failed</th>\n",
       "    </tr>\n",
       "  </thead>\n",
       "  <tbody>\n",
       "    <tr>\n",
       "      <th>0</th>\n",
       "      <td>1739468741420</td>\n",
       "      <td>speed</td>\n",
       "      <td>0.0</td>\n",
       "      <td>201</td>\n",
       "      <td>1</td>\n",
       "      <td>1</td>\n",
       "      <td>0</td>\n",
       "    </tr>\n",
       "    <tr>\n",
       "      <th>1</th>\n",
       "      <td>1739468741622</td>\n",
       "      <td>rpm</td>\n",
       "      <td>750.0</td>\n",
       "      <td>224</td>\n",
       "      <td>2</td>\n",
       "      <td>3</td>\n",
       "      <td>0</td>\n",
       "    </tr>\n",
       "    <tr>\n",
       "      <th>2</th>\n",
       "      <td>1739468741847</td>\n",
       "      <td>engine_load</td>\n",
       "      <td>33.0</td>\n",
       "      <td>271</td>\n",
       "      <td>3</td>\n",
       "      <td>5</td>\n",
       "      <td>0</td>\n",
       "    </tr>\n",
       "    <tr>\n",
       "      <th>3</th>\n",
       "      <td>1739468742119</td>\n",
       "      <td>engine_oil_temperature</td>\n",
       "      <td>NO DATA</td>\n",
       "      <td>222</td>\n",
       "      <td>4</td>\n",
       "      <td>7</td>\n",
       "      <td>1</td>\n",
       "    </tr>\n",
       "    <tr>\n",
       "      <th>4</th>\n",
       "      <td>1739468742343</td>\n",
       "      <td>coolant_temp</td>\n",
       "      <td>87.0</td>\n",
       "      <td>132</td>\n",
       "      <td>5</td>\n",
       "      <td>9</td>\n",
       "      <td>1</td>\n",
       "    </tr>\n",
       "    <tr>\n",
       "      <th>5</th>\n",
       "      <td>1739468742520</td>\n",
       "      <td>mass_air_flow</td>\n",
       "      <td>2.2</td>\n",
       "      <td>136</td>\n",
       "      <td>6</td>\n",
       "      <td>11</td>\n",
       "      <td>1</td>\n",
       "    </tr>\n",
       "    <tr>\n",
       "      <th>6</th>\n",
       "      <td>1739468742701</td>\n",
       "      <td>throttle_position</td>\n",
       "      <td>17.0</td>\n",
       "      <td>225</td>\n",
       "      <td>7</td>\n",
       "      <td>13</td>\n",
       "      <td>1</td>\n",
       "    </tr>\n",
       "    <tr>\n",
       "      <th>7</th>\n",
       "      <td>1739468743027</td>\n",
       "      <td>voltage_control_module</td>\n",
       "      <td>13.11</td>\n",
       "      <td>218</td>\n",
       "      <td>8</td>\n",
       "      <td>15</td>\n",
       "      <td>1</td>\n",
       "    </tr>\n",
       "    <tr>\n",
       "      <th>8</th>\n",
       "      <td>1739468743245</td>\n",
       "      <td>fuel_level</td>\n",
       "      <td>48.63</td>\n",
       "      <td>196</td>\n",
       "      <td>9</td>\n",
       "      <td>17</td>\n",
       "      <td>1</td>\n",
       "    </tr>\n",
       "    <tr>\n",
       "      <th>9</th>\n",
       "      <td>1739468743476</td>\n",
       "      <td>fuel_pressure</td>\n",
       "      <td>NO DATA</td>\n",
       "      <td>486</td>\n",
       "      <td>10</td>\n",
       "      <td>19</td>\n",
       "      <td>2</td>\n",
       "    </tr>\n",
       "  </tbody>\n",
       "</table>\n",
       "</div>"
      ],
      "text/plain": [
       "       Timestamp             CommandSent Response  Interval  CommandsCount  \\\n",
       "0  1739468741420                   speed      0.0       201              1   \n",
       "1  1739468741622                     rpm    750.0       224              2   \n",
       "2  1739468741847             engine_load     33.0       271              3   \n",
       "3  1739468742119  engine_oil_temperature  NO DATA       222              4   \n",
       "4  1739468742343            coolant_temp     87.0       132              5   \n",
       "5  1739468742520           mass_air_flow      2.2       136              6   \n",
       "6  1739468742701       throttle_position     17.0       225              7   \n",
       "7  1739468743027  voltage_control_module    13.11       218              8   \n",
       "8  1739468743245              fuel_level    48.63       196              9   \n",
       "9  1739468743476           fuel_pressure  NO DATA       486             10   \n",
       "\n",
       "   ResponsesCount  Failed  \n",
       "0               1       0  \n",
       "1               3       0  \n",
       "2               5       0  \n",
       "3               7       1  \n",
       "4               9       1  \n",
       "5              11       1  \n",
       "6              13       1  \n",
       "7              15       1  \n",
       "8              17       1  \n",
       "9              19       2  "
      ]
     },
     "execution_count": 547,
     "metadata": {},
     "output_type": "execute_result"
    }
   ],
   "source": [
    "tcross_b = datasets[\"tcross\"][\"B\"][\"debug\"]\n",
    "\n",
    "tcross_b.head(10)"
   ]
  },
  {
   "cell_type": "code",
   "execution_count": 548,
   "metadata": {},
   "outputs": [
    {
     "data": {
      "text/plain": [
       "np.float64(169.0)"
      ]
     },
     "execution_count": 548,
     "metadata": {},
     "output_type": "execute_result"
    }
   ],
   "source": [
    "tcross_b[\"Interval\"].median()"
   ]
  },
  {
   "cell_type": "code",
   "execution_count": 549,
   "metadata": {},
   "outputs": [
    {
     "data": {
      "text/plain": [
       "CommandSent\n",
       "absolute_barometric_pressure        175.5\n",
       "absolute_load_value                 177.0\n",
       "absolute_throttle_pos_B             178.0\n",
       "accelerator_pedal_pos_D             178.0\n",
       "accelerator_pedal_pos_E             177.5\n",
       "air_fuel_ratio                      177.0\n",
       "catalyst_temp_bank1_sensor1         177.5\n",
       "coolant_temp                        177.0\n",
       "distance_traveled_with_MIL_on       178.0\n",
       "engine_fuel_rate                    135.0\n",
       "engine_load                         177.0\n",
       "engine_oil_temperature              134.0\n",
       "ethanol_percentage                  177.0\n",
       "fuel_level                          177.0\n",
       "fuel_pressure                       135.0\n",
       "fuel_rail_gauge_pressure            135.0\n",
       "fuel_rail_pressure                  135.0\n",
       "intake_air_temperature              178.0\n",
       "intake_manifold_absolut_pressure    135.0\n",
       "mass_air_flow                       176.0\n",
       "relative_throttle_pos               178.0\n",
       "rpm                                 176.0\n",
       "runtime_since_engine_start          177.0\n",
       "speed                               177.0\n",
       "throttle_position                   177.0\n",
       "timing_advance                      178.0\n",
       "voltage_control_module              177.0\n",
       "Name: Interval, dtype: float64"
      ]
     },
     "execution_count": 549,
     "metadata": {},
     "output_type": "execute_result"
    }
   ],
   "source": [
    "tcross_b.groupby(\"CommandSent\")[\"Interval\"].median()"
   ]
  },
  {
   "cell_type": "code",
   "execution_count": 550,
   "metadata": {},
   "outputs": [
    {
     "data": {
      "text/plain": [
       "np.float64(184.0)"
      ]
     },
     "execution_count": 550,
     "metadata": {},
     "output_type": "execute_result"
    }
   ],
   "source": [
    "compute_emissions_maf_afr(\n",
    "    air_fuel_ratio=tcross_b[\n",
    "        (tcross_b[\"CommandSent\"] == \"air_fuel_ratio\") &\n",
    "        ~(tcross_b[\"Response\"].str.contains(\"NO DATA\"))\n",
    "    ][\"Response\"].values.astype(float),\n",
    "    mass_air_flow=tcross_b[\n",
    "        (tcross_b[\"CommandSent\"] == \"mass_air_flow\") &\n",
    "        ~(tcross_b[\"Response\"].str.contains(\"NO DATA\"))\n",
    "    ][\"Response\"].values.astype(float),\n",
    "    fuel_type=\"Gasolina\",\n",
    "    rpm=tcross_b[\n",
    "        (tcross_b[\"CommandSent\"] == \"rpm\") &\n",
    "        ~(tcross_b[\"Response\"].str.contains(\"NO DATA\"))\n",
    "    ][\"Response\"].values.astype(float),\n",
    "    intake_air_temperature=tcross_b[\n",
    "        (tcross_b[\"CommandSent\"] == \"intake_air_temperature\") &\n",
    "        ~(tcross_b[\"Response\"].str.contains(\"NO DATA\"))\n",
    "    ][\"Response\"].values.astype(float),\n",
    "    intake_manifold_absolut_pressure=tcross_b[\n",
    "        (tcross_b[\"CommandSent\"] == \"intake_manifold_absolut_pressure\") &\n",
    "        ~(tcross_b[\"Response\"].str.contains(\"NO DATA\"))\n",
    "    ][\"Response\"].values.astype(float),\n",
    "    engine=1.0\n",
    ")[\"emission\"]"
   ]
  },
  {
   "cell_type": "markdown",
   "metadata": {},
   "source": [
    "### Plotting"
   ]
  },
  {
   "cell_type": "code",
   "execution_count": 551,
   "metadata": {},
   "outputs": [
    {
     "data": {
      "image/png": "[encoded data removed]",
      "text/plain": [
       "<Figure size 1800x600 with 1 Axes>"
      ]
     },
     "metadata": {},
     "output_type": "display_data"
    }
   ],
   "source": [
    "min_value = min(tcross_a[\"Interval\"].min(), tcross_b[\"Interval\"].min())\n",
    "max_value = max(tcross_a[\"Interval\"].max(), tcross_b[\"Interval\"].max())\n",
    "\n",
    "num_bins = 100\n",
    "bins = np.linspace(min_value, max_value, num_bins + 1)\n",
    "\n",
    "plt.figure(figsize=(18, 6))\n",
    "\n",
    "plt.hist(tcross_a[\"Interval\"], bins=bins, alpha=0.7, label=\"A\")\n",
    "plt.hist(tcross_b[\"Interval\"], bins=bins, alpha=0.7, label=\"B\")\n",
    "\n",
    "plt.xlabel(\"Intervalo\")\n",
    "plt.ylabel(\"Frequência\")\n",
    "\n",
    "plt.xlim(0, 300)\n",
    "\n",
    "plt.legend(loc=\"upper right\", frameon=False)\n",
    "\n",
    "plt.show()"
   ]
  },
  {
   "cell_type": "code",
   "execution_count": 552,
   "metadata": {},
   "outputs": [
    {
     "data": {
      "image/png": "[encoded data removed]",
      "text/plain": [
       "<Figure size 1800x600 with 2 Axes>"
      ]
     },
     "metadata": {},
     "output_type": "display_data"
    }
   ],
   "source": [
    "fig, ax = plt.subplots(1, 2, figsize=(18, 6))\n",
    "\n",
    "stats.probplot(tcross_a[\"Interval\"].values, dist=\"norm\", plot=ax[0])\n",
    "\n",
    "stats.probplot(tcross_b[\"Interval\"].values, dist=\"norm\", plot=ax[1])\n",
    "\n",
    "plt.tight_layout()\n",
    "plt.show()"
   ]
  },
  {
   "cell_type": "code",
   "execution_count": 553,
   "metadata": {},
   "outputs": [
    {
     "data": {
      "text/plain": [
       "np.float64(21.145224615433673)"
      ]
     },
     "execution_count": 553,
     "metadata": {},
     "output_type": "execute_result"
    }
   ],
   "source": [
    "stats.skew(tcross_a[\"Interval\"].values)"
   ]
  },
  {
   "cell_type": "code",
   "execution_count": 554,
   "metadata": {},
   "outputs": [
    {
     "data": {
      "text/plain": [
       "np.float64(7.073858182113214)"
      ]
     },
     "execution_count": 554,
     "metadata": {},
     "output_type": "execute_result"
    }
   ],
   "source": [
    "stats.skew(tcross_b[\"Interval\"].values)"
   ]
  },
  {
   "cell_type": "code",
   "execution_count": 555,
   "metadata": {},
   "outputs": [
    {
     "data": {
      "text/plain": [
       "np.float64(815.4281632457753)"
      ]
     },
     "execution_count": 555,
     "metadata": {},
     "output_type": "execute_result"
    }
   ],
   "source": [
    "stats.kurtosis(tcross_a[\"Interval\"].values)"
   ]
  },
  {
   "cell_type": "code",
   "execution_count": 556,
   "metadata": {},
   "outputs": [
    {
     "data": {
      "text/plain": [
       "np.float64(157.97067243503287)"
      ]
     },
     "execution_count": 556,
     "metadata": {},
     "output_type": "execute_result"
    }
   ],
   "source": [
    "stats.kurtosis(tcross_b[\"Interval\"].values)"
   ]
  },
  {
   "cell_type": "code",
   "execution_count": 557,
   "metadata": {},
   "outputs": [
    {
     "data": {
      "text/plain": [
       "KstestResult(statistic=np.float64(0.37232908961167643), pvalue=np.float64(0.0), statistic_location=np.int64(152), statistic_sign=np.int8(1))"
      ]
     },
     "execution_count": 557,
     "metadata": {},
     "output_type": "execute_result"
    }
   ],
   "source": [
    "stats.kstest(tcross_a[\"Interval\"].values, \"norm\", args=(tcross_a[\"Interval\"].mean(), tcross_a[\"Interval\"].std()))"
   ]
  },
  {
   "cell_type": "code",
   "execution_count": 558,
   "metadata": {},
   "outputs": [
    {
     "data": {
      "text/plain": [
       "KstestResult(statistic=np.float64(0.2037743380240789), pvalue=np.float64(4.6219411718445424e-123), statistic_location=np.int64(138), statistic_sign=np.int8(1))"
      ]
     },
     "execution_count": 558,
     "metadata": {},
     "output_type": "execute_result"
    }
   ],
   "source": [
    "stats.kstest(tcross_b[\"Interval\"].values, \"norm\", args=(tcross_b[\"Interval\"].mean(), tcross_b[\"Interval\"].std()))"
   ]
  },
  {
   "cell_type": "code",
   "execution_count": 559,
   "metadata": {},
   "outputs": [
    {
     "data": {
      "text/plain": [
       "(np.float64(5985305.5), np.float64(1.8296594095925736e-05))"
      ]
     },
     "execution_count": 559,
     "metadata": {},
     "output_type": "execute_result"
    }
   ],
   "source": [
    "stat, p = stats.mannwhitneyu(\n",
    "    tcross_a[\"Interval\"].values,\n",
    "    tcross_b[\"Interval\"].values,\n",
    "    alternative='two-sided'\n",
    ")\n",
    "\n",
    "stat, p"
   ]
  },
  {
   "cell_type": "markdown",
   "metadata": {},
   "source": [
    "## HB20"
   ]
  },
  {
   "cell_type": "markdown",
   "metadata": {},
   "source": [
    "### OBD A"
   ]
  },
  {
   "cell_type": "code",
   "execution_count": 560,
   "metadata": {},
   "outputs": [
    {
     "data": {
      "text/html": [
       "<div>\n",
       "<style scoped>\n",
       "    .dataframe tbody tr th:only-of-type {\n",
       "        vertical-align: middle;\n",
       "    }\n",
       "\n",
       "    .dataframe tbody tr th {\n",
       "        vertical-align: top;\n",
       "    }\n",
       "\n",
       "    .dataframe thead th {\n",
       "        text-align: right;\n",
       "    }\n",
       "</style>\n",
       "<table border=\"1\" class=\"dataframe\">\n",
       "  <thead>\n",
       "    <tr style=\"text-align: right;\">\n",
       "      <th></th>\n",
       "      <th>Timestamp</th>\n",
       "      <th>CommandSent</th>\n",
       "      <th>Response</th>\n",
       "      <th>Interval</th>\n",
       "      <th>CommandsCount</th>\n",
       "      <th>ResponsesCount</th>\n",
       "      <th>Failed</th>\n",
       "    </tr>\n",
       "  </thead>\n",
       "  <tbody>\n",
       "    <tr>\n",
       "      <th>0</th>\n",
       "      <td>1739884777551</td>\n",
       "      <td>speed</td>\n",
       "      <td>0.0</td>\n",
       "      <td>355</td>\n",
       "      <td>1</td>\n",
       "      <td>1</td>\n",
       "      <td>0</td>\n",
       "    </tr>\n",
       "    <tr>\n",
       "      <th>1</th>\n",
       "      <td>1739884777907</td>\n",
       "      <td>rpm</td>\n",
       "      <td>844.0</td>\n",
       "      <td>148</td>\n",
       "      <td>2</td>\n",
       "      <td>2</td>\n",
       "      <td>0</td>\n",
       "    </tr>\n",
       "    <tr>\n",
       "      <th>2</th>\n",
       "      <td>1739884778055</td>\n",
       "      <td>engine_load</td>\n",
       "      <td>32.0</td>\n",
       "      <td>155</td>\n",
       "      <td>3</td>\n",
       "      <td>3</td>\n",
       "      <td>0</td>\n",
       "    </tr>\n",
       "    <tr>\n",
       "      <th>3</th>\n",
       "      <td>1739884778211</td>\n",
       "      <td>engine_oil_temperature</td>\n",
       "      <td>NO DATA\\r&gt;</td>\n",
       "      <td>148</td>\n",
       "      <td>4</td>\n",
       "      <td>4</td>\n",
       "      <td>1</td>\n",
       "    </tr>\n",
       "    <tr>\n",
       "      <th>4</th>\n",
       "      <td>1739884778359</td>\n",
       "      <td>coolant_temp</td>\n",
       "      <td>91.0</td>\n",
       "      <td>147</td>\n",
       "      <td>5</td>\n",
       "      <td>5</td>\n",
       "      <td>1</td>\n",
       "    </tr>\n",
       "    <tr>\n",
       "      <th>5</th>\n",
       "      <td>1739884778507</td>\n",
       "      <td>mass_air_flow</td>\n",
       "      <td>NO DATA\\r&gt;</td>\n",
       "      <td>151</td>\n",
       "      <td>6</td>\n",
       "      <td>6</td>\n",
       "      <td>2</td>\n",
       "    </tr>\n",
       "    <tr>\n",
       "      <th>6</th>\n",
       "      <td>1739884778658</td>\n",
       "      <td>throttle_position</td>\n",
       "      <td>13.0</td>\n",
       "      <td>147</td>\n",
       "      <td>7</td>\n",
       "      <td>7</td>\n",
       "      <td>2</td>\n",
       "    </tr>\n",
       "    <tr>\n",
       "      <th>7</th>\n",
       "      <td>1739884778806</td>\n",
       "      <td>voltage_control_module</td>\n",
       "      <td>14.18</td>\n",
       "      <td>151</td>\n",
       "      <td>8</td>\n",
       "      <td>8</td>\n",
       "      <td>2</td>\n",
       "    </tr>\n",
       "    <tr>\n",
       "      <th>8</th>\n",
       "      <td>1739884778957</td>\n",
       "      <td>fuel_level</td>\n",
       "      <td>29.02</td>\n",
       "      <td>151</td>\n",
       "      <td>9</td>\n",
       "      <td>9</td>\n",
       "      <td>2</td>\n",
       "    </tr>\n",
       "    <tr>\n",
       "      <th>9</th>\n",
       "      <td>1739884779109</td>\n",
       "      <td>fuel_pressure</td>\n",
       "      <td>NO DATA\\r&gt;</td>\n",
       "      <td>154</td>\n",
       "      <td>10</td>\n",
       "      <td>10</td>\n",
       "      <td>3</td>\n",
       "    </tr>\n",
       "  </tbody>\n",
       "</table>\n",
       "</div>"
      ],
      "text/plain": [
       "       Timestamp             CommandSent    Response  Interval  CommandsCount  \\\n",
       "0  1739884777551                   speed         0.0       355              1   \n",
       "1  1739884777907                     rpm       844.0       148              2   \n",
       "2  1739884778055             engine_load        32.0       155              3   \n",
       "3  1739884778211  engine_oil_temperature  NO DATA\\r>       148              4   \n",
       "4  1739884778359            coolant_temp        91.0       147              5   \n",
       "5  1739884778507           mass_air_flow  NO DATA\\r>       151              6   \n",
       "6  1739884778658       throttle_position        13.0       147              7   \n",
       "7  1739884778806  voltage_control_module       14.18       151              8   \n",
       "8  1739884778957              fuel_level       29.02       151              9   \n",
       "9  1739884779109           fuel_pressure  NO DATA\\r>       154             10   \n",
       "\n",
       "   ResponsesCount  Failed  \n",
       "0               1       0  \n",
       "1               2       0  \n",
       "2               3       0  \n",
       "3               4       1  \n",
       "4               5       1  \n",
       "5               6       2  \n",
       "6               7       2  \n",
       "7               8       2  \n",
       "8               9       2  \n",
       "9              10       3  "
      ]
     },
     "execution_count": 560,
     "metadata": {},
     "output_type": "execute_result"
    }
   ],
   "source": [
    "hb20_a = datasets[\"hb20\"][\"A\"][\"debug\"]\n",
    "\n",
    "hb20_a.head(10)"
   ]
  },
  {
   "cell_type": "code",
   "execution_count": 561,
   "metadata": {},
   "outputs": [
    {
     "data": {
      "text/plain": [
       "np.float64(137.0)"
      ]
     },
     "execution_count": 561,
     "metadata": {},
     "output_type": "execute_result"
    }
   ],
   "source": [
    "hb20_a[\"Interval\"].median()"
   ]
  },
  {
   "cell_type": "code",
   "execution_count": 562,
   "metadata": {},
   "outputs": [
    {
     "data": {
      "text/plain": [
       "CommandSent\n",
       "absolute_barometric_pressure        145.5\n",
       "absolute_load_value                 116.5\n",
       "absolute_throttle_pos_B             120.0\n",
       "accelerator_pedal_pos_D             109.0\n",
       "accelerator_pedal_pos_E             143.0\n",
       "air_fuel_ratio                      138.5\n",
       "catalyst_temp_bank1_sensor1         143.5\n",
       "coolant_temp                        144.0\n",
       "distance_traveled_with_MIL_on       118.5\n",
       "engine_fuel_rate                    117.0\n",
       "engine_load                         118.0\n",
       "engine_oil_temperature              122.0\n",
       "ethanol_percentage                  117.5\n",
       "fuel_level                          142.0\n",
       "fuel_pressure                       116.5\n",
       "fuel_rail_gauge_pressure            146.0\n",
       "fuel_rail_pressure                  142.5\n",
       "intake_air_temperature              109.5\n",
       "intake_manifold_absolut_pressure    142.0\n",
       "mass_air_flow                       123.0\n",
       "relative_throttle_pos               123.5\n",
       "rpm                                 100.0\n",
       "runtime_since_engine_start          139.5\n",
       "speed                                99.0\n",
       "throttle_position                   128.5\n",
       "timing_advance                       99.0\n",
       "voltage_control_module              143.0\n",
       "Name: Interval, dtype: float64"
      ]
     },
     "execution_count": 562,
     "metadata": {},
     "output_type": "execute_result"
    }
   ],
   "source": [
    "hb20_a.groupby(\"CommandSent\")[\"Interval\"].median()"
   ]
  },
  {
   "cell_type": "code",
   "execution_count": 563,
   "metadata": {},
   "outputs": [
    {
     "data": {
      "text/plain": [
       "np.float64(296.38)"
      ]
     },
     "execution_count": 563,
     "metadata": {},
     "output_type": "execute_result"
    }
   ],
   "source": [
    "compute_emissions_maf_afr(\n",
    "    air_fuel_ratio=hb20_a[\n",
    "        (hb20_a[\"CommandSent\"] == \"air_fuel_ratio\") &\n",
    "        ~(hb20_a[\"Response\"].str.contains(\"NO DATA\"))\n",
    "    ][\"Response\"].values.astype(float),\n",
    "    mass_air_flow=hb20_a[\n",
    "        (hb20_a[\"CommandSent\"] == \"mass_air_flow\") &\n",
    "        ~(hb20_a[\"Response\"].str.contains(\"NO DATA\"))\n",
    "    ][\"Response\"].values.astype(float),\n",
    "    fuel_type=\"Gasolina\",\n",
    "    rpm=hb20_a[\n",
    "        (hb20_a[\"CommandSent\"] == \"rpm\") &\n",
    "        ~(hb20_a[\"Response\"].str.contains(\"NO DATA\"))\n",
    "    ][\"Response\"].values.astype(float),\n",
    "    intake_air_temperature=hb20_a[\n",
    "        (hb20_a[\"CommandSent\"] == \"intake_air_temperature\") &\n",
    "        ~(hb20_a[\"Response\"].str.contains(\"NO DATA\"))\n",
    "    ][\"Response\"].values.astype(float),\n",
    "    intake_manifold_absolut_pressure=hb20_a[\n",
    "        (hb20_a[\"CommandSent\"] == \"intake_manifold_absolut_pressure\") &\n",
    "        ~(hb20_a[\"Response\"].str.contains(\"NO DATA\"))\n",
    "    ][\"Response\"].values.astype(float),\n",
    "    engine=1.0\n",
    ")[\"emission\"]"
   ]
  },
  {
   "cell_type": "markdown",
   "metadata": {},
   "source": [
    "### OBD B"
   ]
  },
  {
   "cell_type": "code",
   "execution_count": 564,
   "metadata": {},
   "outputs": [
    {
     "data": {
      "text/html": [
       "<div>\n",
       "<style scoped>\n",
       "    .dataframe tbody tr th:only-of-type {\n",
       "        vertical-align: middle;\n",
       "    }\n",
       "\n",
       "    .dataframe tbody tr th {\n",
       "        vertical-align: top;\n",
       "    }\n",
       "\n",
       "    .dataframe thead th {\n",
       "        text-align: right;\n",
       "    }\n",
       "</style>\n",
       "<table border=\"1\" class=\"dataframe\">\n",
       "  <thead>\n",
       "    <tr style=\"text-align: right;\">\n",
       "      <th></th>\n",
       "      <th>Timestamp</th>\n",
       "      <th>CommandSent</th>\n",
       "      <th>Response</th>\n",
       "      <th>Interval</th>\n",
       "      <th>CommandsCount</th>\n",
       "      <th>ResponsesCount</th>\n",
       "      <th>Failed</th>\n",
       "    </tr>\n",
       "  </thead>\n",
       "  <tbody>\n",
       "    <tr>\n",
       "      <th>0</th>\n",
       "      <td>1739885442664</td>\n",
       "      <td>speed</td>\n",
       "      <td>0.0</td>\n",
       "      <td>191</td>\n",
       "      <td>1</td>\n",
       "      <td>1</td>\n",
       "      <td>0</td>\n",
       "    </tr>\n",
       "    <tr>\n",
       "      <th>1</th>\n",
       "      <td>1739885442855</td>\n",
       "      <td>rpm</td>\n",
       "      <td>846.0</td>\n",
       "      <td>184</td>\n",
       "      <td>2</td>\n",
       "      <td>3</td>\n",
       "      <td>0</td>\n",
       "    </tr>\n",
       "    <tr>\n",
       "      <th>2</th>\n",
       "      <td>1739885443039</td>\n",
       "      <td>engine_load</td>\n",
       "      <td>26.0</td>\n",
       "      <td>177</td>\n",
       "      <td>3</td>\n",
       "      <td>5</td>\n",
       "      <td>0</td>\n",
       "    </tr>\n",
       "    <tr>\n",
       "      <th>3</th>\n",
       "      <td>1739885443218</td>\n",
       "      <td>engine_oil_temperature</td>\n",
       "      <td>NO DATA</td>\n",
       "      <td>136</td>\n",
       "      <td>4</td>\n",
       "      <td>7</td>\n",
       "      <td>1</td>\n",
       "    </tr>\n",
       "    <tr>\n",
       "      <th>4</th>\n",
       "      <td>1739885443354</td>\n",
       "      <td>coolant_temp</td>\n",
       "      <td>90.0</td>\n",
       "      <td>179</td>\n",
       "      <td>5</td>\n",
       "      <td>9</td>\n",
       "      <td>1</td>\n",
       "    </tr>\n",
       "    <tr>\n",
       "      <th>5</th>\n",
       "      <td>1739885443533</td>\n",
       "      <td>mass_air_flow</td>\n",
       "      <td>NO DATA</td>\n",
       "      <td>135</td>\n",
       "      <td>6</td>\n",
       "      <td>11</td>\n",
       "      <td>2</td>\n",
       "    </tr>\n",
       "    <tr>\n",
       "      <th>6</th>\n",
       "      <td>1739885443669</td>\n",
       "      <td>throttle_position</td>\n",
       "      <td>13.0</td>\n",
       "      <td>178</td>\n",
       "      <td>7</td>\n",
       "      <td>13</td>\n",
       "      <td>2</td>\n",
       "    </tr>\n",
       "    <tr>\n",
       "      <th>7</th>\n",
       "      <td>1739885443848</td>\n",
       "      <td>voltage_control_module</td>\n",
       "      <td>14.01</td>\n",
       "      <td>187</td>\n",
       "      <td>8</td>\n",
       "      <td>15</td>\n",
       "      <td>2</td>\n",
       "    </tr>\n",
       "    <tr>\n",
       "      <th>8</th>\n",
       "      <td>1739885444035</td>\n",
       "      <td>fuel_level</td>\n",
       "      <td>27.06</td>\n",
       "      <td>174</td>\n",
       "      <td>9</td>\n",
       "      <td>17</td>\n",
       "      <td>2</td>\n",
       "    </tr>\n",
       "    <tr>\n",
       "      <th>9</th>\n",
       "      <td>1739885444210</td>\n",
       "      <td>fuel_pressure</td>\n",
       "      <td>NO DATA</td>\n",
       "      <td>129</td>\n",
       "      <td>10</td>\n",
       "      <td>19</td>\n",
       "      <td>3</td>\n",
       "    </tr>\n",
       "  </tbody>\n",
       "</table>\n",
       "</div>"
      ],
      "text/plain": [
       "       Timestamp             CommandSent Response  Interval  CommandsCount  \\\n",
       "0  1739885442664                   speed      0.0       191              1   \n",
       "1  1739885442855                     rpm    846.0       184              2   \n",
       "2  1739885443039             engine_load     26.0       177              3   \n",
       "3  1739885443218  engine_oil_temperature  NO DATA       136              4   \n",
       "4  1739885443354            coolant_temp     90.0       179              5   \n",
       "5  1739885443533           mass_air_flow  NO DATA       135              6   \n",
       "6  1739885443669       throttle_position     13.0       178              7   \n",
       "7  1739885443848  voltage_control_module    14.01       187              8   \n",
       "8  1739885444035              fuel_level    27.06       174              9   \n",
       "9  1739885444210           fuel_pressure  NO DATA       129             10   \n",
       "\n",
       "   ResponsesCount  Failed  \n",
       "0               1       0  \n",
       "1               3       0  \n",
       "2               5       0  \n",
       "3               7       1  \n",
       "4               9       1  \n",
       "5              11       2  \n",
       "6              13       2  \n",
       "7              15       2  \n",
       "8              17       2  \n",
       "9              19       3  "
      ]
     },
     "execution_count": 564,
     "metadata": {},
     "output_type": "execute_result"
    }
   ],
   "source": [
    "hb20_b = datasets[\"hb20\"][\"B\"][\"debug\"]\n",
    "\n",
    "hb20_b.head(10)"
   ]
  },
  {
   "cell_type": "code",
   "execution_count": 565,
   "metadata": {},
   "outputs": [
    {
     "data": {
      "text/plain": [
       "np.float64(179.0)"
      ]
     },
     "execution_count": 565,
     "metadata": {},
     "output_type": "execute_result"
    }
   ],
   "source": [
    "hb20_b[\"Interval\"].median()"
   ]
  },
  {
   "cell_type": "code",
   "execution_count": 566,
   "metadata": {},
   "outputs": [
    {
     "data": {
      "text/plain": [
       "CommandSent\n",
       "absolute_barometric_pressure        179.0\n",
       "absolute_load_value                 180.0\n",
       "absolute_throttle_pos_B             179.0\n",
       "accelerator_pedal_pos_D             179.0\n",
       "accelerator_pedal_pos_E             179.0\n",
       "air_fuel_ratio                      179.0\n",
       "catalyst_temp_bank1_sensor1         179.0\n",
       "coolant_temp                        180.0\n",
       "distance_traveled_with_MIL_on       179.0\n",
       "engine_fuel_rate                    134.0\n",
       "engine_load                         179.0\n",
       "engine_oil_temperature              134.0\n",
       "ethanol_percentage                  179.0\n",
       "fuel_level                          179.0\n",
       "fuel_pressure                       134.0\n",
       "fuel_rail_gauge_pressure            180.0\n",
       "fuel_rail_pressure                  135.0\n",
       "intake_air_temperature              179.0\n",
       "intake_manifold_absolut_pressure    179.0\n",
       "mass_air_flow                       134.0\n",
       "relative_throttle_pos               179.0\n",
       "rpm                                 179.0\n",
       "runtime_since_engine_start          179.0\n",
       "speed                               179.0\n",
       "throttle_position                   180.0\n",
       "timing_advance                      179.0\n",
       "voltage_control_module              179.0\n",
       "Name: Interval, dtype: float64"
      ]
     },
     "execution_count": 566,
     "metadata": {},
     "output_type": "execute_result"
    }
   ],
   "source": [
    "hb20_b.groupby(\"CommandSent\")[\"Interval\"].median()"
   ]
  },
  {
   "cell_type": "code",
   "execution_count": 567,
   "metadata": {},
   "outputs": [
    {
     "data": {
      "text/plain": [
       "np.float64(217.45)"
      ]
     },
     "execution_count": 567,
     "metadata": {},
     "output_type": "execute_result"
    }
   ],
   "source": [
    "compute_emissions_maf_afr(\n",
    "    air_fuel_ratio=hb20_b[\n",
    "        (hb20_b[\"CommandSent\"] == \"air_fuel_ratio\") &\n",
    "        ~(hb20_b[\"Response\"].str.contains(\"NO DATA\"))\n",
    "    ][\"Response\"].values.astype(float),\n",
    "    mass_air_flow=hb20_b[\n",
    "        (hb20_b[\"CommandSent\"] == \"mass_air_flow\") &\n",
    "        ~(hb20_b[\"Response\"].str.contains(\"NO DATA\"))\n",
    "    ][\"Response\"].values.astype(float),\n",
    "    fuel_type=\"Gasolina\",\n",
    "    rpm=hb20_b[\n",
    "        (hb20_b[\"CommandSent\"] == \"rpm\") &\n",
    "        ~(hb20_b[\"Response\"].str.contains(\"NO DATA\"))\n",
    "    ][\"Response\"].values.astype(float),\n",
    "    intake_air_temperature=hb20_b[\n",
    "        (hb20_b[\"CommandSent\"] == \"intake_air_temperature\") &\n",
    "        ~(hb20_b[\"Response\"].str.contains(\"NO DATA\"))\n",
    "    ][\"Response\"].values.astype(float),\n",
    "    intake_manifold_absolut_pressure=hb20_b[\n",
    "        (hb20_b[\"CommandSent\"] == \"intake_manifold_absolut_pressure\") &\n",
    "        ~(hb20_b[\"Response\"].str.contains(\"NO DATA\"))\n",
    "    ][\"Response\"].values.astype(float),\n",
    "    engine=1.0\n",
    ")[\"emission\"]"
   ]
  },
  {
   "cell_type": "markdown",
   "metadata": {},
   "source": [
    "### Plotting"
   ]
  },
  {
   "cell_type": "code",
   "execution_count": 568,
   "metadata": {},
   "outputs": [
    {
     "data": {
      "image/png": "[encoded data removed]",
      "text/plain": [
       "<Figure size 1800x600 with 1 Axes>"
      ]
     },
     "metadata": {},
     "output_type": "display_data"
    }
   ],
   "source": [
    "min_value = min(hb20_a[\"Interval\"].min(), hb20_b[\"Interval\"].min())\n",
    "max_value = max(hb20_a[\"Interval\"].max(), hb20_b[\"Interval\"].max())\n",
    "\n",
    "num_bins = 100\n",
    "bins = np.linspace(min_value, max_value, num_bins + 1)\n",
    "\n",
    "plt.figure(figsize=(18, 6))\n",
    "\n",
    "plt.hist(hb20_a[\"Interval\"], bins=bins, alpha=0.7, label=\"A\")\n",
    "plt.hist(hb20_b[\"Interval\"], bins=bins, alpha=0.7, label=\"B\")\n",
    "\n",
    "plt.xlabel(\"Intervalo\")\n",
    "plt.ylabel(\"Frequência\")\n",
    "\n",
    "plt.xlim(0, 300)\n",
    "\n",
    "plt.legend(loc=\"upper right\", frameon=False)\n",
    "\n",
    "plt.show()"
   ]
  },
  {
   "cell_type": "code",
   "execution_count": 569,
   "metadata": {},
   "outputs": [
    {
     "data": {
      "image/png": "[encoded data removed]",
      "text/plain": [
       "<Figure size 1800x600 with 2 Axes>"
      ]
     },
     "metadata": {},
     "output_type": "display_data"
    }
   ],
   "source": [
    "fig, ax = plt.subplots(1, 2, figsize=(18, 6))\n",
    "\n",
    "stats.probplot(hb20_a[\"Interval\"].values, dist=\"norm\", plot=ax[0])\n",
    "\n",
    "stats.probplot(hb20_b[\"Interval\"].values, dist=\"norm\", plot=ax[1])\n",
    "\n",
    "plt.tight_layout()\n",
    "plt.show()"
   ]
  },
  {
   "cell_type": "code",
   "execution_count": 570,
   "metadata": {},
   "outputs": [
    {
     "data": {
      "text/plain": [
       "np.float64(0.080433921019875)"
      ]
     },
     "execution_count": 570,
     "metadata": {},
     "output_type": "execute_result"
    }
   ],
   "source": [
    "stats.skew(hb20_a[\"Interval\"].values)"
   ]
  },
  {
   "cell_type": "code",
   "execution_count": 571,
   "metadata": {},
   "outputs": [
    {
     "data": {
      "text/plain": [
       "np.float64(-1.448791865730347)"
      ]
     },
     "execution_count": 571,
     "metadata": {},
     "output_type": "execute_result"
    }
   ],
   "source": [
    "stats.skew(hb20_b[\"Interval\"].values)"
   ]
  },
  {
   "cell_type": "code",
   "execution_count": 572,
   "metadata": {},
   "outputs": [
    {
     "data": {
      "text/plain": [
       "np.float64(-1.1040331418355043)"
      ]
     },
     "execution_count": 572,
     "metadata": {},
     "output_type": "execute_result"
    }
   ],
   "source": [
    "stats.kurtosis(hb20_a[\"Interval\"].values)"
   ]
  },
  {
   "cell_type": "code",
   "execution_count": 573,
   "metadata": {},
   "outputs": [
    {
     "data": {
      "text/plain": [
       "np.float64(0.6525313030039275)"
      ]
     },
     "execution_count": 573,
     "metadata": {},
     "output_type": "execute_result"
    }
   ],
   "source": [
    "stats.kurtosis(hb20_b[\"Interval\"].values)"
   ]
  },
  {
   "cell_type": "code",
   "execution_count": 574,
   "metadata": {},
   "outputs": [
    {
     "data": {
      "text/plain": [
       "KstestResult(statistic=np.float64(0.25077559558602747), pvalue=np.float64(5.290811323730492e-234), statistic_location=np.int64(95), statistic_sign=np.int8(1))"
      ]
     },
     "execution_count": 574,
     "metadata": {},
     "output_type": "execute_result"
    }
   ],
   "source": [
    "stats.kstest(hb20_a[\"Interval\"].values, \"norm\", args=(hb20_a[\"Interval\"].mean(), hb20_a[\"Interval\"].std()))"
   ]
  },
  {
   "cell_type": "code",
   "execution_count": 575,
   "metadata": {},
   "outputs": [
    {
     "data": {
      "text/plain": [
       "KstestResult(statistic=np.float64(0.3420086838254249), pvalue=np.float64(0.0), statistic_location=np.int64(175), statistic_sign=np.int8(-1))"
      ]
     },
     "execution_count": 575,
     "metadata": {},
     "output_type": "execute_result"
    }
   ],
   "source": [
    "stats.kstest(hb20_b[\"Interval\"].values, \"norm\", args=(hb20_b[\"Interval\"].mean(), hb20_b[\"Interval\"].std()))"
   ]
  },
  {
   "cell_type": "code",
   "execution_count": 576,
   "metadata": {},
   "outputs": [
    {
     "data": {
      "text/plain": [
       "(np.float64(5985305.5), np.float64(1.8296594095925736e-05))"
      ]
     },
     "execution_count": 576,
     "metadata": {},
     "output_type": "execute_result"
    }
   ],
   "source": [
    "stat, p = stats.mannwhitneyu(\n",
    "    tcross_a[\"Interval\"].values,\n",
    "    tcross_b[\"Interval\"].values,\n",
    "    alternative='two-sided'\n",
    ")\n",
    "\n",
    "stat, p"
   ]
  },
  {
   "cell_type": "markdown",
   "metadata": {},
   "source": [
    "# General Plotting"
   ]
  },
  {
   "cell_type": "code",
   "execution_count": 577,
   "metadata": {},
   "outputs": [
    {
     "data": {
      "image/png": "[encoded data removed]",
      "text/plain": [
       "<Figure size 1400x600 with 1 Axes>"
      ]
     },
     "metadata": {},
     "output_type": "display_data"
    }
   ],
   "source": [
    "polo_prata_a = {\"Interval\": polo_prata_a[\"Interval\"]}\n",
    "polo_prata_b = {\"Interval\": polo_prata_b[\"Interval\"]}\n",
    "polo_branco_a = {\"Interval\": polo_branco_a[\"Interval\"]}\n",
    "polo_branco_b = {\"Interval\": polo_branco_b[\"Interval\"]}\n",
    "fit_a = {\"Interval\": fit_a[\"Interval\"]}\n",
    "fit_b = {\"Interval\": fit_b[\"Interval\"]}\n",
    "tcross_a = {\"Interval\": tcross_a[\"Interval\"]}\n",
    "tcross_b = {\"Interval\": tcross_b[\"Interval\"]}\n",
    "hb20_a = {\"Interval\": hb20_a[\"Interval\"]}\n",
    "hb20_b = {\"Interval\": hb20_b[\"Interval\"]}\n",
    "# fastback_a = {\"Interval\": fastback_a[\"Interval\"]}\n",
    "# fastback_b = {\"Interval\": fastback_b[\"Interval\"]}\n",
    "\n",
    "# cars = [\"Polo\", \"Fit\", \"T-Cross\", \"Fastback\"]\n",
    "# cars = [\"Polo\", \"Fit\", \"T-Cross\"]\n",
    "cars = [\n",
    "    \"Polo Prata\",\n",
    "    \"Polo Branco\", \n",
    "    \"Fit\", \n",
    "    \"T-Cross\", \n",
    "    \"HB20\"\n",
    "]\n",
    "samples = [\n",
    "    [polo_prata_a[\"Interval\"], polo_prata_b[\"Interval\"]],\n",
    "    [polo_branco_a[\"Interval\"], polo_branco_b[\"Interval\"]],\n",
    "    [fit_a[\"Interval\"], fit_b[\"Interval\"]],\n",
    "    [tcross_a[\"Interval\"], tcross_b[\"Interval\"]],\n",
    "    [hb20_a[\"Interval\"], hb20_b[\"Interval\"]],\n",
    "    # [fastback_a[\"Interval\"], fastback_b[\"Interval\"]],\n",
    "]\n",
    "\n",
    "colors = ['deepskyblue', 'orangered']\n",
    "\n",
    "plt.figure(figsize=(14, 6))\n",
    "\n",
    "x_vals = np.linspace(0, 300, 400)\n",
    "\n",
    "for i, car_samples in enumerate(samples):\n",
    "    offset = i * 2\n",
    "    \n",
    "    for j, sample in enumerate(car_samples):\n",
    "        kde = stats.gaussian_kde(sample, bw_method=0.2)\n",
    "        density = kde(x_vals) * 15\n",
    "        \n",
    "        plt.fill_between(x_vals, density + offset, offset, color=colors[j % 2], alpha=0.7)\n",
    "    \n",
    "    plt.axhline(y=offset, color='black', linewidth=1)\n",
    "\n",
    "plt.yticks([i * 2 for i in range(len(cars))], cars)\n",
    "plt.grid(False)\n",
    "plt.box(False)\n",
    "\n",
    "plt.xlabel(\"Intervalo\")\n",
    "plt.legend([\"A\", \"B\"], loc=\"upper right\", frameon=False)\n",
    "\n",
    "plt.show()"
   ]
  },
  {
   "cell_type": "markdown",
   "metadata": {},
   "source": [
    "# Comparison between Polos"
   ]
  },
  {
   "cell_type": "markdown",
   "metadata": {},
   "source": [
    "## OBD A"
   ]
  },
  {
   "cell_type": "code",
   "execution_count": 578,
   "metadata": {},
   "outputs": [
    {
     "data": {
      "text/plain": [
       "(np.float64(8557151.0), np.float64(0.01652840002186723))"
      ]
     },
     "execution_count": 578,
     "metadata": {},
     "output_type": "execute_result"
    }
   ],
   "source": [
    "stat, p = stats.mannwhitneyu(\n",
    "    polo_branco_a[\"Interval\"].values,\n",
    "    polo_prata_a[\"Interval\"].values,\n",
    "    alternative='two-sided'\n",
    ")\n",
    "\n",
    "stat, p"
   ]
  },
  {
   "cell_type": "markdown",
   "metadata": {},
   "source": [
    "## OBD B"
   ]
  },
  {
   "cell_type": "code",
   "execution_count": 579,
   "metadata": {},
   "outputs": [
    {
     "data": {
      "text/plain": [
       "(np.float64(8451715.0), np.float64(0.9354531328266884))"
      ]
     },
     "execution_count": 579,
     "metadata": {},
     "output_type": "execute_result"
    }
   ],
   "source": [
    "stat, p = stats.mannwhitneyu(\n",
    "    polo_branco_b[\"Interval\"].values,\n",
    "    polo_prata_b[\"Interval\"].values,\n",
    "    alternative='two-sided'\n",
    ")\n",
    "\n",
    "stat, p"
   ]
  }
 ],
 "metadata": {
  "kernelspec": {
   "display_name": "venv-sbrc2025-app2car",
   "language": "python",
   "name": "python3"
  },
  "language_info": {
   "codemirror_mode": {
    "name": "ipython",
    "version": 3
   },
   "file_extension": ".py",
   "mimetype": "text/x-python",
   "name": "python",
   "nbconvert_exporter": "python",
   "pygments_lexer": "ipython3",
   "version": "3.10.12"
  }
 },
 "nbformat": 4,
 "nbformat_minor": 2
}
