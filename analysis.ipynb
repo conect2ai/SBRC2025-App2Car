{
 "cells": [
  {
   "cell_type": "markdown",
   "metadata": {},
   "source": [
    "* interval -> ms"
   ]
  },
  {
   "cell_type": "markdown",
   "metadata": {},
   "source": [
    "# Import Libraries"
   ]
  },
  {
   "cell_type": "code",
   "execution_count": 5,
   "metadata": {},
   "outputs": [],
   "source": [
    "import pandas as pd"
   ]
  },
  {
   "cell_type": "markdown",
   "metadata": {},
   "source": [
    "# POLO"
   ]
  },
  {
   "cell_type": "markdown",
   "metadata": {},
   "source": [
    "### A"
   ]
  },
  {
   "cell_type": "code",
   "execution_count": 6,
   "metadata": {},
   "outputs": [
    {
     "data": {
      "text/html": [
       "<div>\n",
       "<style scoped>\n",
       "    .dataframe tbody tr th:only-of-type {\n",
       "        vertical-align: middle;\n",
       "    }\n",
       "\n",
       "    .dataframe tbody tr th {\n",
       "        vertical-align: top;\n",
       "    }\n",
       "\n",
       "    .dataframe thead th {\n",
       "        text-align: right;\n",
       "    }\n",
       "</style>\n",
       "<table border=\"1\" class=\"dataframe\">\n",
       "  <thead>\n",
       "    <tr style=\"text-align: right;\">\n",
       "      <th></th>\n",
       "      <th>Timestamp</th>\n",
       "      <th>CommandSent</th>\n",
       "      <th>Response</th>\n",
       "      <th>Interval</th>\n",
       "      <th>CommandsCount</th>\n",
       "      <th>ResponsesCount</th>\n",
       "      <th>Failed</th>\n",
       "    </tr>\n",
       "  </thead>\n",
       "  <tbody>\n",
       "    <tr>\n",
       "      <th>0</th>\n",
       "      <td>1738345800735</td>\n",
       "      <td>speed</td>\n",
       "      <td>0.0</td>\n",
       "      <td>335</td>\n",
       "      <td>1</td>\n",
       "      <td>1</td>\n",
       "      <td>0</td>\n",
       "    </tr>\n",
       "    <tr>\n",
       "      <th>1</th>\n",
       "      <td>1738345801078</td>\n",
       "      <td>rpm</td>\n",
       "      <td>983.0</td>\n",
       "      <td>140</td>\n",
       "      <td>2</td>\n",
       "      <td>2</td>\n",
       "      <td>0</td>\n",
       "    </tr>\n",
       "    <tr>\n",
       "      <th>2</th>\n",
       "      <td>1738345801218</td>\n",
       "      <td>engine_load</td>\n",
       "      <td>13.0</td>\n",
       "      <td>152</td>\n",
       "      <td>3</td>\n",
       "      <td>3</td>\n",
       "      <td>0</td>\n",
       "    </tr>\n",
       "    <tr>\n",
       "      <th>3</th>\n",
       "      <td>1738345801370</td>\n",
       "      <td>engine_oil_temperature</td>\n",
       "      <td>NO DATA\\r&gt;</td>\n",
       "      <td>116</td>\n",
       "      <td>4</td>\n",
       "      <td>4</td>\n",
       "      <td>1</td>\n",
       "    </tr>\n",
       "    <tr>\n",
       "      <th>4</th>\n",
       "      <td>1738345801486</td>\n",
       "      <td>coolant_temp</td>\n",
       "      <td>87.0</td>\n",
       "      <td>90</td>\n",
       "      <td>5</td>\n",
       "      <td>5</td>\n",
       "      <td>1</td>\n",
       "    </tr>\n",
       "  </tbody>\n",
       "</table>\n",
       "</div>"
      ],
      "text/plain": [
       "       Timestamp             CommandSent    Response  Interval  CommandsCount  \\\n",
       "0  1738345800735                   speed         0.0       335              1   \n",
       "1  1738345801078                     rpm       983.0       140              2   \n",
       "2  1738345801218             engine_load        13.0       152              3   \n",
       "3  1738345801370  engine_oil_temperature  NO DATA\\r>       116              4   \n",
       "4  1738345801486            coolant_temp        87.0        90              5   \n",
       "\n",
       "   ResponsesCount  Failed  \n",
       "0               1       0  \n",
       "1               2       0  \n",
       "2               3       0  \n",
       "3               4       1  \n",
       "4               5       1  "
      ]
     },
     "execution_count": 6,
     "metadata": {},
     "output_type": "execute_result"
    }
   ],
   "source": [
    "polo_a = pd.read_csv(\"./data/A/POLO_A_2025-01-31T17_59_47.140697Z-debug.csv\")\n",
    "\n",
    "polo_a.head()"
   ]
  },
  {
   "cell_type": "code",
   "execution_count": 15,
   "metadata": {},
   "outputs": [
    {
     "data": {
      "text/plain": [
       "<Axes: ylabel='Frequency'>"
      ]
     },
     "execution_count": 15,
     "metadata": {},
     "output_type": "execute_result"
    },
    {
     "data": {
      "image/png": "[encoded data removed]",
      "text/plain": [
       "<Figure size 640x480 with 1 Axes>"
      ]
     },
     "metadata": {},
     "output_type": "display_data"
    }
   ],
   "source": [
    "polo_a[\"Interval\"].plot(kind=\"hist\", bins=100)"
   ]
  },
  {
   "cell_type": "markdown",
   "metadata": {},
   "source": [
    "### B"
   ]
  },
  {
   "cell_type": "code",
   "execution_count": 7,
   "metadata": {},
   "outputs": [
    {
     "data": {
      "text/html": [
       "<div>\n",
       "<style scoped>\n",
       "    .dataframe tbody tr th:only-of-type {\n",
       "        vertical-align: middle;\n",
       "    }\n",
       "\n",
       "    .dataframe tbody tr th {\n",
       "        vertical-align: top;\n",
       "    }\n",
       "\n",
       "    .dataframe thead th {\n",
       "        text-align: right;\n",
       "    }\n",
       "</style>\n",
       "<table border=\"1\" class=\"dataframe\">\n",
       "  <thead>\n",
       "    <tr style=\"text-align: right;\">\n",
       "      <th></th>\n",
       "      <th>Timestamp</th>\n",
       "      <th>CommandSent</th>\n",
       "      <th>Response</th>\n",
       "      <th>Interval</th>\n",
       "      <th>CommandsCount</th>\n",
       "      <th>ResponsesCount</th>\n",
       "      <th>Failed</th>\n",
       "    </tr>\n",
       "  </thead>\n",
       "  <tbody>\n",
       "    <tr>\n",
       "      <th>0</th>\n",
       "      <td>1738345088711</td>\n",
       "      <td>speed</td>\n",
       "      <td>0.0</td>\n",
       "      <td>309</td>\n",
       "      <td>1</td>\n",
       "      <td>1</td>\n",
       "      <td>0</td>\n",
       "    </tr>\n",
       "    <tr>\n",
       "      <th>1</th>\n",
       "      <td>1738345088711</td>\n",
       "      <td>speed</td>\n",
       "      <td>0.0</td>\n",
       "      <td>323</td>\n",
       "      <td>1</td>\n",
       "      <td>2</td>\n",
       "      <td>0</td>\n",
       "    </tr>\n",
       "    <tr>\n",
       "      <th>2</th>\n",
       "      <td>1738345089034</td>\n",
       "      <td>rpm</td>\n",
       "      <td>981.0</td>\n",
       "      <td>162</td>\n",
       "      <td>2</td>\n",
       "      <td>4</td>\n",
       "      <td>0</td>\n",
       "    </tr>\n",
       "    <tr>\n",
       "      <th>3</th>\n",
       "      <td>1738345089034</td>\n",
       "      <td>rpm</td>\n",
       "      <td>981.0</td>\n",
       "      <td>169</td>\n",
       "      <td>2</td>\n",
       "      <td>5</td>\n",
       "      <td>0</td>\n",
       "    </tr>\n",
       "    <tr>\n",
       "      <th>4</th>\n",
       "      <td>1738345089240</td>\n",
       "      <td>engine_load</td>\n",
       "      <td>16.0</td>\n",
       "      <td>185</td>\n",
       "      <td>3</td>\n",
       "      <td>7</td>\n",
       "      <td>0</td>\n",
       "    </tr>\n",
       "  </tbody>\n",
       "</table>\n",
       "</div>"
      ],
      "text/plain": [
       "       Timestamp  CommandSent Response  Interval  CommandsCount  \\\n",
       "0  1738345088711        speed      0.0       309              1   \n",
       "1  1738345088711        speed      0.0       323              1   \n",
       "2  1738345089034          rpm    981.0       162              2   \n",
       "3  1738345089034          rpm    981.0       169              2   \n",
       "4  1738345089240  engine_load     16.0       185              3   \n",
       "\n",
       "   ResponsesCount  Failed  \n",
       "0               1       0  \n",
       "1               2       0  \n",
       "2               4       0  \n",
       "3               5       0  \n",
       "4               7       0  "
      ]
     },
     "execution_count": 7,
     "metadata": {},
     "output_type": "execute_result"
    }
   ],
   "source": [
    "polo_b = pd.read_csv(\"./data/B/POLO_B_2025-01-31T17_48_22.461519Z-debug.csv\")\n",
    "\n",
    "polo_b.head()"
   ]
  },
  {
   "cell_type": "code",
   "execution_count": 16,
   "metadata": {},
   "outputs": [
    {
     "data": {
      "text/plain": [
       "<Axes: ylabel='Frequency'>"
      ]
     },
     "execution_count": 16,
     "metadata": {},
     "output_type": "execute_result"
    },
    {
     "data": {
      "image/png": "[encoded data removed]",
      "text/plain": [
       "<Figure size 640x480 with 1 Axes>"
      ]
     },
     "metadata": {},
     "output_type": "display_data"
    }
   ],
   "source": [
    "polo_b[\"Interval\"].plot(kind=\"hist\", bins=100)"
   ]
  },
  {
   "cell_type": "markdown",
   "metadata": {},
   "source": [
    "# FIT"
   ]
  },
  {
   "cell_type": "markdown",
   "metadata": {},
   "source": [
    "### A"
   ]
  },
  {
   "cell_type": "code",
   "execution_count": 8,
   "metadata": {},
   "outputs": [
    {
     "data": {
      "text/html": [
       "<div>\n",
       "<style scoped>\n",
       "    .dataframe tbody tr th:only-of-type {\n",
       "        vertical-align: middle;\n",
       "    }\n",
       "\n",
       "    .dataframe tbody tr th {\n",
       "        vertical-align: top;\n",
       "    }\n",
       "\n",
       "    .dataframe thead th {\n",
       "        text-align: right;\n",
       "    }\n",
       "</style>\n",
       "<table border=\"1\" class=\"dataframe\">\n",
       "  <thead>\n",
       "    <tr style=\"text-align: right;\">\n",
       "      <th></th>\n",
       "      <th>Timestamp</th>\n",
       "      <th>CommandSent</th>\n",
       "      <th>Response</th>\n",
       "      <th>Interval</th>\n",
       "      <th>CommandsCount</th>\n",
       "      <th>ResponsesCount</th>\n",
       "      <th>Failed</th>\n",
       "    </tr>\n",
       "  </thead>\n",
       "  <tbody>\n",
       "    <tr>\n",
       "      <th>0</th>\n",
       "      <td>1738345053621</td>\n",
       "      <td>speed</td>\n",
       "      <td>0.0</td>\n",
       "      <td>453</td>\n",
       "      <td>1</td>\n",
       "      <td>1</td>\n",
       "      <td>0</td>\n",
       "    </tr>\n",
       "    <tr>\n",
       "      <th>1</th>\n",
       "      <td>1738345054075</td>\n",
       "      <td>rpm</td>\n",
       "      <td>738.0</td>\n",
       "      <td>148</td>\n",
       "      <td>2</td>\n",
       "      <td>2</td>\n",
       "      <td>0</td>\n",
       "    </tr>\n",
       "    <tr>\n",
       "      <th>2</th>\n",
       "      <td>1738345054223</td>\n",
       "      <td>engine_load</td>\n",
       "      <td>22.0</td>\n",
       "      <td>151</td>\n",
       "      <td>3</td>\n",
       "      <td>3</td>\n",
       "      <td>0</td>\n",
       "    </tr>\n",
       "    <tr>\n",
       "      <th>3</th>\n",
       "      <td>1738345054375</td>\n",
       "      <td>engine_oil_temperature</td>\n",
       "      <td>NO DATA\\r&gt;</td>\n",
       "      <td>117</td>\n",
       "      <td>4</td>\n",
       "      <td>4</td>\n",
       "      <td>1</td>\n",
       "    </tr>\n",
       "    <tr>\n",
       "      <th>4</th>\n",
       "      <td>1738345054492</td>\n",
       "      <td>coolant_temp</td>\n",
       "      <td>81.0</td>\n",
       "      <td>90</td>\n",
       "      <td>5</td>\n",
       "      <td>5</td>\n",
       "      <td>1</td>\n",
       "    </tr>\n",
       "  </tbody>\n",
       "</table>\n",
       "</div>"
      ],
      "text/plain": [
       "       Timestamp             CommandSent    Response  Interval  CommandsCount  \\\n",
       "0  1738345053621                   speed         0.0       453              1   \n",
       "1  1738345054075                     rpm       738.0       148              2   \n",
       "2  1738345054223             engine_load        22.0       151              3   \n",
       "3  1738345054375  engine_oil_temperature  NO DATA\\r>       117              4   \n",
       "4  1738345054492            coolant_temp        81.0        90              5   \n",
       "\n",
       "   ResponsesCount  Failed  \n",
       "0               1       0  \n",
       "1               2       0  \n",
       "2               3       0  \n",
       "3               4       1  \n",
       "4               5       1  "
      ]
     },
     "execution_count": 8,
     "metadata": {},
     "output_type": "execute_result"
    }
   ],
   "source": [
    "fit_a = pd.read_csv(\"./data/A/FIT_A_2025-01-31T17_48_23.509583Z-debug.csv\")\n",
    "\n",
    "fit_a.head()"
   ]
  },
  {
   "cell_type": "code",
   "execution_count": 17,
   "metadata": {},
   "outputs": [
    {
     "data": {
      "text/plain": [
       "<Axes: ylabel='Frequency'>"
      ]
     },
     "execution_count": 17,
     "metadata": {},
     "output_type": "execute_result"
    },
    {
     "data": {
      "image/png": "[encoded data removed]",
      "text/plain": [
       "<Figure size 640x480 with 1 Axes>"
      ]
     },
     "metadata": {},
     "output_type": "display_data"
    }
   ],
   "source": [
    "fit_a[\"Interval\"].plot(kind=\"hist\", bins=100)"
   ]
  },
  {
   "cell_type": "markdown",
   "metadata": {},
   "source": [
    "### B"
   ]
  },
  {
   "cell_type": "code",
   "execution_count": 9,
   "metadata": {},
   "outputs": [
    {
     "data": {
      "text/html": [
       "<div>\n",
       "<style scoped>\n",
       "    .dataframe tbody tr th:only-of-type {\n",
       "        vertical-align: middle;\n",
       "    }\n",
       "\n",
       "    .dataframe tbody tr th {\n",
       "        vertical-align: top;\n",
       "    }\n",
       "\n",
       "    .dataframe thead th {\n",
       "        text-align: right;\n",
       "    }\n",
       "</style>\n",
       "<table border=\"1\" class=\"dataframe\">\n",
       "  <thead>\n",
       "    <tr style=\"text-align: right;\">\n",
       "      <th></th>\n",
       "      <th>Timestamp</th>\n",
       "      <th>CommandSent</th>\n",
       "      <th>Response</th>\n",
       "      <th>Interval</th>\n",
       "      <th>CommandsCount</th>\n",
       "      <th>ResponsesCount</th>\n",
       "      <th>Failed</th>\n",
       "    </tr>\n",
       "  </thead>\n",
       "  <tbody>\n",
       "    <tr>\n",
       "      <th>0</th>\n",
       "      <td>1738345789191</td>\n",
       "      <td>speed</td>\n",
       "      <td>0.0</td>\n",
       "      <td>152</td>\n",
       "      <td>1</td>\n",
       "      <td>1</td>\n",
       "      <td>0</td>\n",
       "    </tr>\n",
       "    <tr>\n",
       "      <th>1</th>\n",
       "      <td>1738345789374</td>\n",
       "      <td>rpm</td>\n",
       "      <td>762.0</td>\n",
       "      <td>119</td>\n",
       "      <td>2</td>\n",
       "      <td>3</td>\n",
       "      <td>0</td>\n",
       "    </tr>\n",
       "    <tr>\n",
       "      <th>2</th>\n",
       "      <td>1738345789523</td>\n",
       "      <td>engine_load</td>\n",
       "      <td>20.0</td>\n",
       "      <td>121</td>\n",
       "      <td>3</td>\n",
       "      <td>5</td>\n",
       "      <td>0</td>\n",
       "    </tr>\n",
       "    <tr>\n",
       "      <th>3</th>\n",
       "      <td>1738345789674</td>\n",
       "      <td>engine_oil_temperature</td>\n",
       "      <td>NO DATA</td>\n",
       "      <td>123</td>\n",
       "      <td>4</td>\n",
       "      <td>7</td>\n",
       "      <td>1</td>\n",
       "    </tr>\n",
       "    <tr>\n",
       "      <th>4</th>\n",
       "      <td>1738345789800</td>\n",
       "      <td>coolant_temp</td>\n",
       "      <td>88.0</td>\n",
       "      <td>110</td>\n",
       "      <td>5</td>\n",
       "      <td>9</td>\n",
       "      <td>1</td>\n",
       "    </tr>\n",
       "  </tbody>\n",
       "</table>\n",
       "</div>"
      ],
      "text/plain": [
       "       Timestamp             CommandSent Response  Interval  CommandsCount  \\\n",
       "0  1738345789191                   speed      0.0       152              1   \n",
       "1  1738345789374                     rpm    762.0       119              2   \n",
       "2  1738345789523             engine_load     20.0       121              3   \n",
       "3  1738345789674  engine_oil_temperature  NO DATA       123              4   \n",
       "4  1738345789800            coolant_temp     88.0       110              5   \n",
       "\n",
       "   ResponsesCount  Failed  \n",
       "0               1       0  \n",
       "1               3       0  \n",
       "2               5       0  \n",
       "3               7       1  \n",
       "4               9       1  "
      ]
     },
     "execution_count": 9,
     "metadata": {},
     "output_type": "execute_result"
    }
   ],
   "source": [
    "fit_b = pd.read_csv(\"./data/B/FIT_B_2025-01-31T18_00_37.690262Z-debug.csv\")\n",
    "\n",
    "fit_b.head()"
   ]
  },
  {
   "cell_type": "code",
   "execution_count": 18,
   "metadata": {},
   "outputs": [
    {
     "data": {
      "text/plain": [
       "<Axes: ylabel='Frequency'>"
      ]
     },
     "execution_count": 18,
     "metadata": {},
     "output_type": "execute_result"
    },
    {
     "data": {
      "image/png": "[encoded data removed]",
      "text/plain": [
       "<Figure size 640x480 with 1 Axes>"
      ]
     },
     "metadata": {},
     "output_type": "display_data"
    }
   ],
   "source": [
    "fit_b[\"Interval\"].plot(kind=\"hist\", bins=100)"
   ]
  },
  {
   "cell_type": "markdown",
   "metadata": {},
   "source": [
    "# FASTBACK"
   ]
  },
  {
   "cell_type": "markdown",
   "metadata": {},
   "source": [
    "### A"
   ]
  },
  {
   "cell_type": "code",
   "execution_count": 10,
   "metadata": {},
   "outputs": [
    {
     "data": {
      "text/html": [
       "<div>\n",
       "<style scoped>\n",
       "    .dataframe tbody tr th:only-of-type {\n",
       "        vertical-align: middle;\n",
       "    }\n",
       "\n",
       "    .dataframe tbody tr th {\n",
       "        vertical-align: top;\n",
       "    }\n",
       "\n",
       "    .dataframe thead th {\n",
       "        text-align: right;\n",
       "    }\n",
       "</style>\n",
       "<table border=\"1\" class=\"dataframe\">\n",
       "  <thead>\n",
       "    <tr style=\"text-align: right;\">\n",
       "      <th></th>\n",
       "      <th>Timestamp</th>\n",
       "      <th>CommandSent</th>\n",
       "      <th>Response</th>\n",
       "      <th>Interval</th>\n",
       "      <th>CommandsCount</th>\n",
       "      <th>ResponsesCount</th>\n",
       "      <th>Failed</th>\n",
       "    </tr>\n",
       "  </thead>\n",
       "  <tbody>\n",
       "    <tr>\n",
       "      <th>0</th>\n",
       "      <td>1738347324917</td>\n",
       "      <td>speed</td>\n",
       "      <td>0.0</td>\n",
       "      <td>280</td>\n",
       "      <td>1</td>\n",
       "      <td>1</td>\n",
       "      <td>0</td>\n",
       "    </tr>\n",
       "    <tr>\n",
       "      <th>1</th>\n",
       "      <td>1738347325197</td>\n",
       "      <td>rpm</td>\n",
       "      <td>941.0</td>\n",
       "      <td>156</td>\n",
       "      <td>2</td>\n",
       "      <td>2</td>\n",
       "      <td>0</td>\n",
       "    </tr>\n",
       "    <tr>\n",
       "      <th>2</th>\n",
       "      <td>1738347325353</td>\n",
       "      <td>engine_load</td>\n",
       "      <td>40.0</td>\n",
       "      <td>143</td>\n",
       "      <td>3</td>\n",
       "      <td>3</td>\n",
       "      <td>0</td>\n",
       "    </tr>\n",
       "    <tr>\n",
       "      <th>3</th>\n",
       "      <td>1738347325497</td>\n",
       "      <td>engine_oil_temperature</td>\n",
       "      <td>127.0</td>\n",
       "      <td>150</td>\n",
       "      <td>4</td>\n",
       "      <td>4</td>\n",
       "      <td>0</td>\n",
       "    </tr>\n",
       "    <tr>\n",
       "      <th>4</th>\n",
       "      <td>1738347325647</td>\n",
       "      <td>coolant_temp</td>\n",
       "      <td>82.0</td>\n",
       "      <td>151</td>\n",
       "      <td>5</td>\n",
       "      <td>5</td>\n",
       "      <td>0</td>\n",
       "    </tr>\n",
       "  </tbody>\n",
       "</table>\n",
       "</div>"
      ],
      "text/plain": [
       "       Timestamp             CommandSent Response  Interval  CommandsCount  \\\n",
       "0  1738347324917                   speed      0.0       280              1   \n",
       "1  1738347325197                     rpm    941.0       156              2   \n",
       "2  1738347325353             engine_load     40.0       143              3   \n",
       "3  1738347325497  engine_oil_temperature    127.0       150              4   \n",
       "4  1738347325647            coolant_temp     82.0       151              5   \n",
       "\n",
       "   ResponsesCount  Failed  \n",
       "0               1       0  \n",
       "1               2       0  \n",
       "2               3       0  \n",
       "3               4       0  \n",
       "4               5       0  "
      ]
     },
     "execution_count": 10,
     "metadata": {},
     "output_type": "execute_result"
    }
   ],
   "source": [
    "fastback_a = pd.read_csv(\"./data/A/FASTBACK_A_2025-01-31T18_25_37.743808Z-debug.csv\")\n",
    "\n",
    "fastback_a.head()"
   ]
  },
  {
   "cell_type": "code",
   "execution_count": 19,
   "metadata": {},
   "outputs": [
    {
     "data": {
      "text/plain": [
       "<Axes: ylabel='Frequency'>"
      ]
     },
     "execution_count": 19,
     "metadata": {},
     "output_type": "execute_result"
    },
    {
     "data": {
      "image/png": "[encoded data removed]",
      "text/plain": [
       "<Figure size 640x480 with 1 Axes>"
      ]
     },
     "metadata": {},
     "output_type": "display_data"
    }
   ],
   "source": [
    "fastback_a[\"Interval\"].plot(kind=\"hist\", bins=100)"
   ]
  },
  {
   "cell_type": "markdown",
   "metadata": {},
   "source": [
    "### B"
   ]
  },
  {
   "cell_type": "code",
   "execution_count": 11,
   "metadata": {},
   "outputs": [
    {
     "data": {
      "text/html": [
       "<div>\n",
       "<style scoped>\n",
       "    .dataframe tbody tr th:only-of-type {\n",
       "        vertical-align: middle;\n",
       "    }\n",
       "\n",
       "    .dataframe tbody tr th {\n",
       "        vertical-align: top;\n",
       "    }\n",
       "\n",
       "    .dataframe thead th {\n",
       "        text-align: right;\n",
       "    }\n",
       "</style>\n",
       "<table border=\"1\" class=\"dataframe\">\n",
       "  <thead>\n",
       "    <tr style=\"text-align: right;\">\n",
       "      <th></th>\n",
       "      <th>Timestamp</th>\n",
       "      <th>CommandSent</th>\n",
       "      <th>Response</th>\n",
       "      <th>Interval</th>\n",
       "      <th>CommandsCount</th>\n",
       "      <th>ResponsesCount</th>\n",
       "      <th>Failed</th>\n",
       "    </tr>\n",
       "  </thead>\n",
       "  <tbody>\n",
       "    <tr>\n",
       "      <th>0</th>\n",
       "      <td>1738346625814</td>\n",
       "      <td>speed</td>\n",
       "      <td>0.0</td>\n",
       "      <td>173</td>\n",
       "      <td>1</td>\n",
       "      <td>1</td>\n",
       "      <td>0</td>\n",
       "    </tr>\n",
       "    <tr>\n",
       "      <th>1</th>\n",
       "      <td>1738346625814</td>\n",
       "      <td>speed</td>\n",
       "      <td>0.0</td>\n",
       "      <td>173</td>\n",
       "      <td>1</td>\n",
       "      <td>2</td>\n",
       "      <td>0</td>\n",
       "    </tr>\n",
       "    <tr>\n",
       "      <th>2</th>\n",
       "      <td>1738346626015</td>\n",
       "      <td>rpm</td>\n",
       "      <td>1008.0</td>\n",
       "      <td>153</td>\n",
       "      <td>2</td>\n",
       "      <td>4</td>\n",
       "      <td>0</td>\n",
       "    </tr>\n",
       "    <tr>\n",
       "      <th>3</th>\n",
       "      <td>1738346626015</td>\n",
       "      <td>rpm</td>\n",
       "      <td>1008.0</td>\n",
       "      <td>153</td>\n",
       "      <td>2</td>\n",
       "      <td>5</td>\n",
       "      <td>0</td>\n",
       "    </tr>\n",
       "    <tr>\n",
       "      <th>4</th>\n",
       "      <td>1738346626195</td>\n",
       "      <td>engine_load</td>\n",
       "      <td>47.0</td>\n",
       "      <td>154</td>\n",
       "      <td>3</td>\n",
       "      <td>7</td>\n",
       "      <td>0</td>\n",
       "    </tr>\n",
       "  </tbody>\n",
       "</table>\n",
       "</div>"
      ],
      "text/plain": [
       "       Timestamp  CommandSent Response  Interval  CommandsCount  \\\n",
       "0  1738346625814        speed      0.0       173              1   \n",
       "1  1738346625814        speed      0.0       173              1   \n",
       "2  1738346626015          rpm   1008.0       153              2   \n",
       "3  1738346626015          rpm   1008.0       153              2   \n",
       "4  1738346626195  engine_load     47.0       154              3   \n",
       "\n",
       "   ResponsesCount  Failed  \n",
       "0               1       0  \n",
       "1               2       0  \n",
       "2               4       0  \n",
       "3               5       0  \n",
       "4               7       0  "
      ]
     },
     "execution_count": 11,
     "metadata": {},
     "output_type": "execute_result"
    }
   ],
   "source": [
    "fastback_b = pd.read_csv(\"./data/B/FASTBACK_B_2025-01-31T18_13_34.480439Z-debug.csv\")\n",
    "\n",
    "fastback_b.head()"
   ]
  },
  {
   "cell_type": "code",
   "execution_count": 21,
   "metadata": {},
   "outputs": [
    {
     "data": {
      "text/html": [
       "<div>\n",
       "<style scoped>\n",
       "    .dataframe tbody tr th:only-of-type {\n",
       "        vertical-align: middle;\n",
       "    }\n",
       "\n",
       "    .dataframe tbody tr th {\n",
       "        vertical-align: top;\n",
       "    }\n",
       "\n",
       "    .dataframe thead th {\n",
       "        text-align: right;\n",
       "    }\n",
       "</style>\n",
       "<table border=\"1\" class=\"dataframe\">\n",
       "  <thead>\n",
       "    <tr style=\"text-align: right;\">\n",
       "      <th></th>\n",
       "      <th>Timestamp</th>\n",
       "      <th>CommandSent</th>\n",
       "      <th>Response</th>\n",
       "      <th>Interval</th>\n",
       "      <th>CommandsCount</th>\n",
       "      <th>ResponsesCount</th>\n",
       "      <th>Failed</th>\n",
       "    </tr>\n",
       "  </thead>\n",
       "  <tbody>\n",
       "    <tr>\n",
       "      <th>0</th>\n",
       "      <td>1738346625814</td>\n",
       "      <td>speed</td>\n",
       "      <td>0.0</td>\n",
       "      <td>173</td>\n",
       "      <td>1</td>\n",
       "      <td>1</td>\n",
       "      <td>0</td>\n",
       "    </tr>\n",
       "    <tr>\n",
       "      <th>2</th>\n",
       "      <td>1738346626015</td>\n",
       "      <td>rpm</td>\n",
       "      <td>1008.0</td>\n",
       "      <td>153</td>\n",
       "      <td>2</td>\n",
       "      <td>4</td>\n",
       "      <td>0</td>\n",
       "    </tr>\n",
       "    <tr>\n",
       "      <th>4</th>\n",
       "      <td>1738346626195</td>\n",
       "      <td>engine_load</td>\n",
       "      <td>47.0</td>\n",
       "      <td>154</td>\n",
       "      <td>3</td>\n",
       "      <td>7</td>\n",
       "      <td>0</td>\n",
       "    </tr>\n",
       "    <tr>\n",
       "      <th>6</th>\n",
       "      <td>1738346626375</td>\n",
       "      <td>engine_oil_temperature</td>\n",
       "      <td>96.0</td>\n",
       "      <td>153</td>\n",
       "      <td>4</td>\n",
       "      <td>10</td>\n",
       "      <td>0</td>\n",
       "    </tr>\n",
       "    <tr>\n",
       "      <th>8</th>\n",
       "      <td>1738346626530</td>\n",
       "      <td>coolant_temp</td>\n",
       "      <td>53.0</td>\n",
       "      <td>148</td>\n",
       "      <td>5</td>\n",
       "      <td>13</td>\n",
       "      <td>0</td>\n",
       "    </tr>\n",
       "    <tr>\n",
       "      <th>...</th>\n",
       "      <td>...</td>\n",
       "      <td>...</td>\n",
       "      <td>...</td>\n",
       "      <td>...</td>\n",
       "      <td>...</td>\n",
       "      <td>...</td>\n",
       "      <td>...</td>\n",
       "    </tr>\n",
       "    <tr>\n",
       "      <th>4638</th>\n",
       "      <td>1738347213148</td>\n",
       "      <td>timing_advance</td>\n",
       "      <td>-13.0</td>\n",
       "      <td>151</td>\n",
       "      <td>3794</td>\n",
       "      <td>8432</td>\n",
       "      <td>564</td>\n",
       "    </tr>\n",
       "    <tr>\n",
       "      <th>4640</th>\n",
       "      <td>1738347213450</td>\n",
       "      <td>distance_traveled_with_MIL_on</td>\n",
       "      <td>0.0</td>\n",
       "      <td>147</td>\n",
       "      <td>3796</td>\n",
       "      <td>8436</td>\n",
       "      <td>564</td>\n",
       "    </tr>\n",
       "    <tr>\n",
       "      <th>4642</th>\n",
       "      <td>1738347213627</td>\n",
       "      <td>intake_air_temperature</td>\n",
       "      <td>47.0</td>\n",
       "      <td>150</td>\n",
       "      <td>3797</td>\n",
       "      <td>8439</td>\n",
       "      <td>564</td>\n",
       "    </tr>\n",
       "    <tr>\n",
       "      <th>4644</th>\n",
       "      <td>1738347213931</td>\n",
       "      <td>relative_throttle_pos</td>\n",
       "      <td>9.0</td>\n",
       "      <td>147</td>\n",
       "      <td>3799</td>\n",
       "      <td>8443</td>\n",
       "      <td>564</td>\n",
       "    </tr>\n",
       "    <tr>\n",
       "      <th>4646</th>\n",
       "      <td>1738347214231</td>\n",
       "      <td>accelerator_pedal_pos_E</td>\n",
       "      <td>4.0</td>\n",
       "      <td>149</td>\n",
       "      <td>3801</td>\n",
       "      <td>8447</td>\n",
       "      <td>564</td>\n",
       "    </tr>\n",
       "  </tbody>\n",
       "</table>\n",
       "<p>2324 rows × 7 columns</p>\n",
       "</div>"
      ],
      "text/plain": [
       "          Timestamp                    CommandSent Response  Interval  \\\n",
       "0     1738346625814                          speed      0.0       173   \n",
       "2     1738346626015                            rpm   1008.0       153   \n",
       "4     1738346626195                    engine_load     47.0       154   \n",
       "6     1738346626375         engine_oil_temperature     96.0       153   \n",
       "8     1738346626530                   coolant_temp     53.0       148   \n",
       "...             ...                            ...      ...       ...   \n",
       "4638  1738347213148                 timing_advance    -13.0       151   \n",
       "4640  1738347213450  distance_traveled_with_MIL_on      0.0       147   \n",
       "4642  1738347213627         intake_air_temperature     47.0       150   \n",
       "4644  1738347213931          relative_throttle_pos      9.0       147   \n",
       "4646  1738347214231        accelerator_pedal_pos_E      4.0       149   \n",
       "\n",
       "      CommandsCount  ResponsesCount  Failed  \n",
       "0                 1               1       0  \n",
       "2                 2               4       0  \n",
       "4                 3               7       0  \n",
       "6                 4              10       0  \n",
       "8                 5              13       0  \n",
       "...             ...             ...     ...  \n",
       "4638           3794            8432     564  \n",
       "4640           3796            8436     564  \n",
       "4642           3797            8439     564  \n",
       "4644           3799            8443     564  \n",
       "4646           3801            8447     564  \n",
       "\n",
       "[2324 rows x 7 columns]"
      ]
     },
     "execution_count": 21,
     "metadata": {},
     "output_type": "execute_result"
    }
   ],
   "source": [
    "fastback_b = fastback_b.iloc[0::2]\n",
    "\n",
    "fastback_b"
   ]
  },
  {
   "cell_type": "code",
   "execution_count": 22,
   "metadata": {},
   "outputs": [
    {
     "data": {
      "text/plain": [
       "<Axes: ylabel='Frequency'>"
      ]
     },
     "execution_count": 22,
     "metadata": {},
     "output_type": "execute_result"
    },
    {
     "data": {
      "image/png": "[encoded data removed]",
      "text/plain": [
       "<Figure size 640x480 with 1 Axes>"
      ]
     },
     "metadata": {},
     "output_type": "display_data"
    }
   ],
   "source": [
    "fastback_b[\"Interval\"].plot(kind=\"hist\", bins=100)"
   ]
  },
  {
   "cell_type": "markdown",
   "metadata": {},
   "source": [
    "# TCROSS"
   ]
  },
  {
   "cell_type": "markdown",
   "metadata": {},
   "source": [
    "### A"
   ]
  },
  {
   "cell_type": "code",
   "execution_count": 12,
   "metadata": {},
   "outputs": [
    {
     "data": {
      "text/html": [
       "<div>\n",
       "<style scoped>\n",
       "    .dataframe tbody tr th:only-of-type {\n",
       "        vertical-align: middle;\n",
       "    }\n",
       "\n",
       "    .dataframe tbody tr th {\n",
       "        vertical-align: top;\n",
       "    }\n",
       "\n",
       "    .dataframe thead th {\n",
       "        text-align: right;\n",
       "    }\n",
       "</style>\n",
       "<table border=\"1\" class=\"dataframe\">\n",
       "  <thead>\n",
       "    <tr style=\"text-align: right;\">\n",
       "      <th></th>\n",
       "      <th>Timestamp</th>\n",
       "      <th>CommandSent</th>\n",
       "      <th>Response</th>\n",
       "      <th>Interval</th>\n",
       "      <th>CommandsCount</th>\n",
       "      <th>ResponsesCount</th>\n",
       "      <th>Failed</th>\n",
       "    </tr>\n",
       "  </thead>\n",
       "  <tbody>\n",
       "    <tr>\n",
       "      <th>0</th>\n",
       "      <td>1738346588337</td>\n",
       "      <td>fuel_pressure</td>\n",
       "      <td>NO DATA\\r&gt;</td>\n",
       "      <td>492</td>\n",
       "      <td>200</td>\n",
       "      <td>199</td>\n",
       "      <td>45</td>\n",
       "    </tr>\n",
       "    <tr>\n",
       "      <th>1</th>\n",
       "      <td>1738346588829</td>\n",
       "      <td>fuel_rail_pressure</td>\n",
       "      <td>NO DATA\\r&gt;</td>\n",
       "      <td>151</td>\n",
       "      <td>201</td>\n",
       "      <td>200</td>\n",
       "      <td>46</td>\n",
       "    </tr>\n",
       "    <tr>\n",
       "      <th>2</th>\n",
       "      <td>1738346588980</td>\n",
       "      <td>fuel_rail_gauge_pressure</td>\n",
       "      <td>NO DATA\\r&gt;</td>\n",
       "      <td>150</td>\n",
       "      <td>202</td>\n",
       "      <td>201</td>\n",
       "      <td>47</td>\n",
       "    </tr>\n",
       "    <tr>\n",
       "      <th>3</th>\n",
       "      <td>1738346589130</td>\n",
       "      <td>intake_manifold_absolut_pressure</td>\n",
       "      <td>65.0</td>\n",
       "      <td>149</td>\n",
       "      <td>203</td>\n",
       "      <td>202</td>\n",
       "      <td>47</td>\n",
       "    </tr>\n",
       "    <tr>\n",
       "      <th>4</th>\n",
       "      <td>1738346589279</td>\n",
       "      <td>timing_advance</td>\n",
       "      <td>-9.0</td>\n",
       "      <td>151</td>\n",
       "      <td>204</td>\n",
       "      <td>203</td>\n",
       "      <td>47</td>\n",
       "    </tr>\n",
       "  </tbody>\n",
       "</table>\n",
       "</div>"
      ],
      "text/plain": [
       "       Timestamp                       CommandSent    Response  Interval  \\\n",
       "0  1738346588337                     fuel_pressure  NO DATA\\r>       492   \n",
       "1  1738346588829                fuel_rail_pressure  NO DATA\\r>       151   \n",
       "2  1738346588980          fuel_rail_gauge_pressure  NO DATA\\r>       150   \n",
       "3  1738346589130  intake_manifold_absolut_pressure        65.0       149   \n",
       "4  1738346589279                    timing_advance        -9.0       151   \n",
       "\n",
       "   CommandsCount  ResponsesCount  Failed  \n",
       "0            200             199      45  \n",
       "1            201             200      46  \n",
       "2            202             201      47  \n",
       "3            203             202      47  \n",
       "4            204             203      47  "
      ]
     },
     "execution_count": 12,
     "metadata": {},
     "output_type": "execute_result"
    }
   ],
   "source": [
    "tcross_a = pd.read_csv(\"./data/A/TCROSS_A_2025-01-31T18_13_48.052103Z-debug.csv\")\n",
    "\n",
    "tcross_a.head()"
   ]
  },
  {
   "cell_type": "markdown",
   "metadata": {},
   "source": [
    "### B"
   ]
  },
  {
   "cell_type": "code",
   "execution_count": 13,
   "metadata": {},
   "outputs": [
    {
     "data": {
      "text/html": [
       "<div>\n",
       "<style scoped>\n",
       "    .dataframe tbody tr th:only-of-type {\n",
       "        vertical-align: middle;\n",
       "    }\n",
       "\n",
       "    .dataframe tbody tr th {\n",
       "        vertical-align: top;\n",
       "    }\n",
       "\n",
       "    .dataframe thead th {\n",
       "        text-align: right;\n",
       "    }\n",
       "</style>\n",
       "<table border=\"1\" class=\"dataframe\">\n",
       "  <thead>\n",
       "    <tr style=\"text-align: right;\">\n",
       "      <th></th>\n",
       "      <th>Timestamp</th>\n",
       "      <th>CommandSent</th>\n",
       "      <th>Response</th>\n",
       "      <th>Interval</th>\n",
       "      <th>CommandsCount</th>\n",
       "      <th>ResponsesCount</th>\n",
       "      <th>Failed</th>\n",
       "    </tr>\n",
       "  </thead>\n",
       "  <tbody>\n",
       "    <tr>\n",
       "      <th>0</th>\n",
       "      <td>1738347287369</td>\n",
       "      <td>speed</td>\n",
       "      <td>0.0</td>\n",
       "      <td>206</td>\n",
       "      <td>1</td>\n",
       "      <td>1</td>\n",
       "      <td>0</td>\n",
       "    </tr>\n",
       "    <tr>\n",
       "      <th>1</th>\n",
       "      <td>1738347287369</td>\n",
       "      <td>speed</td>\n",
       "      <td>0.0</td>\n",
       "      <td>207</td>\n",
       "      <td>1</td>\n",
       "      <td>2</td>\n",
       "      <td>0</td>\n",
       "    </tr>\n",
       "    <tr>\n",
       "      <th>2</th>\n",
       "      <td>1738347287620</td>\n",
       "      <td>rpm</td>\n",
       "      <td>982.0</td>\n",
       "      <td>180</td>\n",
       "      <td>2</td>\n",
       "      <td>4</td>\n",
       "      <td>0</td>\n",
       "    </tr>\n",
       "    <tr>\n",
       "      <th>3</th>\n",
       "      <td>1738347287620</td>\n",
       "      <td>rpm</td>\n",
       "      <td>982.0</td>\n",
       "      <td>180</td>\n",
       "      <td>2</td>\n",
       "      <td>5</td>\n",
       "      <td>0</td>\n",
       "    </tr>\n",
       "    <tr>\n",
       "      <th>4</th>\n",
       "      <td>1738347287801</td>\n",
       "      <td>engine_load</td>\n",
       "      <td>15.0</td>\n",
       "      <td>180</td>\n",
       "      <td>3</td>\n",
       "      <td>7</td>\n",
       "      <td>0</td>\n",
       "    </tr>\n",
       "  </tbody>\n",
       "</table>\n",
       "</div>"
      ],
      "text/plain": [
       "       Timestamp  CommandSent Response  Interval  CommandsCount  \\\n",
       "0  1738347287369        speed      0.0       206              1   \n",
       "1  1738347287369        speed      0.0       207              1   \n",
       "2  1738347287620          rpm    982.0       180              2   \n",
       "3  1738347287620          rpm    982.0       180              2   \n",
       "4  1738347287801  engine_load     15.0       180              3   \n",
       "\n",
       "   ResponsesCount  Failed  \n",
       "0               1       0  \n",
       "1               2       0  \n",
       "2               4       0  \n",
       "3               5       0  \n",
       "4               7       0  "
      ]
     },
     "execution_count": 13,
     "metadata": {},
     "output_type": "execute_result"
    }
   ],
   "source": [
    "tcross_b = pd.read_csv(\"./data/B/TCROSS_B_2025-01-31T18_25_15.916263Z-debug.csv\")\n",
    "\n",
    "tcross_b.head()"
   ]
  },
  {
   "cell_type": "code",
   "execution_count": null,
   "metadata": {},
   "outputs": [],
   "source": []
  }
 ],
 "metadata": {
  "kernelspec": {
   "display_name": "venv-sbrc2025-app2car",
   "language": "python",
   "name": "python3"
  },
  "language_info": {
   "codemirror_mode": {
    "name": "ipython",
    "version": 3
   },
   "file_extension": ".py",
   "mimetype": "text/x-python",
   "name": "python",
   "nbconvert_exporter": "python",
   "pygments_lexer": "ipython3",
   "version": "3.10.12"
  }
 },
 "nbformat": 4,
 "nbformat_minor": 2
}
